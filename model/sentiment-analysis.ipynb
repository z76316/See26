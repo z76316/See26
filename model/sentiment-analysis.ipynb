{
 "cells": [
  {
   "cell_type": "code",
   "execution_count": 1,
   "metadata": {},
   "outputs": [
    {
     "name": "stderr",
     "output_type": "stream",
     "text": [
      "Using TensorFlow backend.\n"
     ]
    }
   ],
   "source": [
    "import numpy as np\n",
    "import pandas as pd\n",
    "from sqlalchemy import create_engine\n",
    "import os\n",
    "import jieba\n",
    "import matplotlib.pyplot as plt\n",
    "from glob import glob\n",
    "from sklearn.model_selection import train_test_split\n",
    "\n",
    "from keras.preprocessing.sequence import pad_sequences\n",
    "from keras.preprocessing.text import one_hot, text_to_word_sequence, Tokenizer\n",
    "from keras.models import Sequential,Model,load_model\n",
    "from keras.layers import Dense, Embedding, LSTM, SpatialDropout1D, Dropout\n",
    "from keras.callbacks import EarlyStopping,ModelCheckpoint\n",
    "import keras.backend as K\n"
   ]
  },
  {
   "cell_type": "code",
   "execution_count": 2,
   "metadata": {
    "collapsed": true
   },
   "outputs": [],
   "source": [
    "def get_engine(db_name=''):\n",
    "    db_dir='/media/disk3/feynman52/See26/crawler-ryh'\n",
    "    db_url = 'sqlite:///'+db_dir+'/'+db_name\n",
    "    engine = create_engine(db_url, echo = False)\n",
    "    return engine\n",
    "\n",
    "def sql_to_df(engine,query=''):\n",
    "    df = pd.read_sql_query(query, engine)\n",
    "    return df\n",
    "\n",
    "def set_jieba_dictionary():\n",
    "    jieba_dit_path = os.path.join('.','dataset','dict.txt.big')\n",
    "    jieba.set_dictionary(jieba_dit_path) \n",
    "\n",
    "set_jieba_dictionary()\n",
    "engine=get_engine(db_name='articles.db')\n"
   ]
  },
  {
   "cell_type": "code",
   "execution_count": 3,
   "metadata": {},
   "outputs": [
    {
     "data": {
      "text/html": [
       "<div>\n",
       "<style scoped>\n",
       "    .dataframe tbody tr th:only-of-type {\n",
       "        vertical-align: middle;\n",
       "    }\n",
       "\n",
       "    .dataframe tbody tr th {\n",
       "        vertical-align: top;\n",
       "    }\n",
       "\n",
       "    .dataframe thead th {\n",
       "        text-align: right;\n",
       "    }\n",
       "</style>\n",
       "<table border=\"1\" class=\"dataframe\">\n",
       "  <thead>\n",
       "    <tr style=\"text-align: right;\">\n",
       "      <th></th>\n",
       "      <th>article_id</th>\n",
       "      <th>article_user</th>\n",
       "      <th>article_group</th>\n",
       "      <th>article_title</th>\n",
       "      <th>article_time</th>\n",
       "      <th>article_weekday</th>\n",
       "      <th>article_ip</th>\n",
       "      <th>article_url</th>\n",
       "    </tr>\n",
       "  </thead>\n",
       "  <tbody>\n",
       "    <tr>\n",
       "      <th>0</th>\n",
       "      <td>3</td>\n",
       "      <td>catwalk456</td>\n",
       "      <td>Gossiping</td>\n",
       "      <td>[新聞] 多瑙河畔響起中華民國國歌 長榮機長空姐</td>\n",
       "      <td>2018-10-11 12:04:16</td>\n",
       "      <td>3</td>\n",
       "      <td>125.227.50.235</td>\n",
       "      <td>https://www.ptt.cc/bbs/Gossiping/M.1539230659....</td>\n",
       "    </tr>\n",
       "  </tbody>\n",
       "</table>\n",
       "</div>"
      ],
      "text/plain": [
       "   article_id article_user article_group             article_title  \\\n",
       "0           3   catwalk456     Gossiping  [新聞] 多瑙河畔響起中華民國國歌 長榮機長空姐   \n",
       "\n",
       "          article_time  article_weekday      article_ip  \\\n",
       "0  2018-10-11 12:04:16                3  125.227.50.235   \n",
       "\n",
       "                                         article_url  \n",
       "0  https://www.ptt.cc/bbs/Gossiping/M.1539230659....  "
      ]
     },
     "execution_count": 3,
     "metadata": {},
     "output_type": "execute_result"
    }
   ],
   "source": [
    "\n",
    "query='''\n",
    "select * from article where article_title like \"%長榮%\"\n",
    "'''\n",
    "articles=sql_to_df(engine,query=query)\n",
    "article_ids=articles.article_id.tolist()\n",
    "article_ids=[str(x) for x in article_ids]\n",
    "article_ids=','.join(article_ids)\n",
    "\n",
    "articles.head(1)"
   ]
  },
  {
   "cell_type": "code",
   "execution_count": 4,
   "metadata": {},
   "outputs": [
    {
     "data": {
      "text/html": [
       "<div>\n",
       "<style scoped>\n",
       "    .dataframe tbody tr th:only-of-type {\n",
       "        vertical-align: middle;\n",
       "    }\n",
       "\n",
       "    .dataframe tbody tr th {\n",
       "        vertical-align: top;\n",
       "    }\n",
       "\n",
       "    .dataframe thead th {\n",
       "        text-align: right;\n",
       "    }\n",
       "</style>\n",
       "<table border=\"1\" class=\"dataframe\">\n",
       "  <thead>\n",
       "    <tr style=\"text-align: right;\">\n",
       "      <th></th>\n",
       "      <th>push_id</th>\n",
       "      <th>push_user</th>\n",
       "      <th>push_tag</th>\n",
       "      <th>push_time</th>\n",
       "      <th>push_content</th>\n",
       "      <th>push_weekday</th>\n",
       "      <th>push_ip</th>\n",
       "      <th>article_id</th>\n",
       "    </tr>\n",
       "  </thead>\n",
       "  <tbody>\n",
       "    <tr>\n",
       "      <th>0</th>\n",
       "      <td>208</td>\n",
       "      <td>xxx60133</td>\n",
       "      <td>→</td>\n",
       "      <td>2018-10-11 12:05:00</td>\n",
       "      <td>現在都要拖出來鞭膩</td>\n",
       "      <td>3</td>\n",
       "      <td>42.76.49.49</td>\n",
       "      <td>3</td>\n",
       "    </tr>\n",
       "  </tbody>\n",
       "</table>\n",
       "</div>"
      ],
      "text/plain": [
       "   push_id push_user push_tag            push_time push_content  push_weekday  \\\n",
       "0      208  xxx60133        →  2018-10-11 12:05:00    現在都要拖出來鞭膩             3   \n",
       "\n",
       "       push_ip  article_id  \n",
       "0  42.76.49.49           3  "
      ]
     },
     "execution_count": 4,
     "metadata": {},
     "output_type": "execute_result"
    }
   ],
   "source": [
    "query='''\n",
    "select * from push where article_id in (%s)\n",
    "'''%(article_ids)\n",
    "\n",
    "pushs=sql_to_df(engine,query=query)\n",
    "\n",
    "pushs.head(1)\n"
   ]
  },
  {
   "cell_type": "code",
   "execution_count": 5,
   "metadata": {},
   "outputs": [
    {
     "data": {
      "text/plain": [
       "(566, 34990)"
      ]
     },
     "execution_count": 5,
     "metadata": {},
     "output_type": "execute_result"
    }
   ],
   "source": [
    "len(articles),len(pushs)"
   ]
  },
  {
   "cell_type": "code",
   "execution_count": 6,
   "metadata": {
    "scrolled": true
   },
   "outputs": [
    {
     "name": "stderr",
     "output_type": "stream",
     "text": [
      "Building prefix dict from /media/disk3/feynman52/See26/model/dataset/dict.txt.big ...\n",
      "Loading model from cache /tmp/jieba.uc8f590617510cc546ef7e6a3a5db2cd4.cache\n",
      "Loading model cost 3.259 seconds.\n",
      "Prefix dict has been built succesfully.\n"
     ]
    },
    {
     "data": {
      "text/html": [
       "<div>\n",
       "<style scoped>\n",
       "    .dataframe tbody tr th:only-of-type {\n",
       "        vertical-align: middle;\n",
       "    }\n",
       "\n",
       "    .dataframe tbody tr th {\n",
       "        vertical-align: top;\n",
       "    }\n",
       "\n",
       "    .dataframe thead th {\n",
       "        text-align: right;\n",
       "    }\n",
       "</style>\n",
       "<table border=\"1\" class=\"dataframe\">\n",
       "  <thead>\n",
       "    <tr style=\"text-align: right;\">\n",
       "      <th></th>\n",
       "      <th>push_tag</th>\n",
       "      <th>push_content</th>\n",
       "      <th>label</th>\n",
       "      <th>push_content_cut</th>\n",
       "      <th>push_content_cut_join</th>\n",
       "    </tr>\n",
       "  </thead>\n",
       "  <tbody>\n",
       "    <tr>\n",
       "      <th>0</th>\n",
       "      <td>→</td>\n",
       "      <td>現在都要拖出來鞭膩</td>\n",
       "      <td>missing</td>\n",
       "      <td>[現在, 都, 要, 拖出來, 鞭膩]</td>\n",
       "      <td>現在 都 要 拖出來 鞭膩</td>\n",
       "    </tr>\n",
       "    <tr>\n",
       "      <th>1</th>\n",
       "      <td>推</td>\n",
       "      <td>抓到了 抵制台獨</td>\n",
       "      <td>1</td>\n",
       "      <td>[抓到, 了,  , 抵制, 台獨]</td>\n",
       "      <td>抓到 了   抵制 台獨</td>\n",
       "    </tr>\n",
       "    <tr>\n",
       "      <th>2</th>\n",
       "      <td>→</td>\n",
       "      <td>9.2%的國歌是不可以在台灣外面播的</td>\n",
       "      <td>missing</td>\n",
       "      <td>[9.2%, 的, 國歌, 是, 不, 可以, 在, 台灣, 外面, 播, 的]</td>\n",
       "      <td>9.2% 的 國歌 是 不 可以 在 台灣 外面 播 的</td>\n",
       "    </tr>\n",
       "    <tr>\n",
       "      <th>3</th>\n",
       "      <td>→</td>\n",
       "      <td>年代不同現在這樣還要趕快下架,怕秋後算賬</td>\n",
       "      <td>missing</td>\n",
       "      <td>[年代, 不同, 現在, 這樣, 還要, 趕快, 下架, ,, 怕, 秋後算賬]</td>\n",
       "      <td>年代 不同 現在 這樣 還要 趕快 下架 , 怕 秋後算賬</td>\n",
       "    </tr>\n",
       "    <tr>\n",
       "      <th>4</th>\n",
       "      <td>→</td>\n",
       "      <td>我不停的追逐 那黑色的幸福</td>\n",
       "      <td>missing</td>\n",
       "      <td>[我, 不停, 的, 追逐,  , 那, 黑色, 的, 幸福]</td>\n",
       "      <td>我 不停 的 追逐   那 黑色 的 幸福</td>\n",
       "    </tr>\n",
       "  </tbody>\n",
       "</table>\n",
       "</div>"
      ],
      "text/plain": [
       "  push_tag          push_content    label  \\\n",
       "0        →             現在都要拖出來鞭膩  missing   \n",
       "1        推              抓到了 抵制台獨        1   \n",
       "2        →    9.2%的國歌是不可以在台灣外面播的  missing   \n",
       "3        →  年代不同現在這樣還要趕快下架,怕秋後算賬  missing   \n",
       "4        →         我不停的追逐 那黑色的幸福  missing   \n",
       "\n",
       "                           push_content_cut          push_content_cut_join  \n",
       "0                       [現在, 都, 要, 拖出來, 鞭膩]                  現在 都 要 拖出來 鞭膩  \n",
       "1                        [抓到, 了,  , 抵制, 台獨]                   抓到 了   抵制 台獨  \n",
       "2  [9.2%, 的, 國歌, 是, 不, 可以, 在, 台灣, 外面, 播, 的]   9.2% 的 國歌 是 不 可以 在 台灣 外面 播 的  \n",
       "3  [年代, 不同, 現在, 這樣, 還要, 趕快, 下架, ,, 怕, 秋後算賬]  年代 不同 現在 這樣 還要 趕快 下架 , 怕 秋後算賬  \n",
       "4           [我, 不停, 的, 追逐,  , 那, 黑色, 的, 幸福]          我 不停 的 追逐   那 黑色 的 幸福  "
      ]
     },
     "execution_count": 6,
     "metadata": {},
     "output_type": "execute_result"
    }
   ],
   "source": [
    "df_all=pushs[['push_tag','push_content']].copy()\n",
    "df_all['label']=df_all['push_tag'].map({'推':1,'噓':0,'→':'missing',})\n",
    "df_all['push_content_cut'] = df_all['push_content'].apply(lambda x: jieba.lcut(x))\n",
    "df_all['push_content_cut_join'] = df_all['push_content_cut'].apply(lambda x: ' '.join(x))\n",
    "df_all.head(5)"
   ]
  },
  {
   "cell_type": "code",
   "execution_count": 7,
   "metadata": {
    "collapsed": true
   },
   "outputs": [],
   "source": [
    "def train_tokenizer(strings=['thank','you'],num_words=20000):\n",
    "    tok = Tokenizer(num_words=num_words,\n",
    "                    filters='\"!#$%&()*+,-./:;<=>?@[\\\\]^_`{|}~\\t\\n',\n",
    "                    lower=True,\n",
    "                    split=' ', \n",
    "                    char_level=False)\n",
    "    tok.fit_on_texts(strings)\n",
    "    return tok\n",
    "\n",
    "num_words=30000\n",
    "strings=df_all.push_content_cut_join.tolist()\n",
    "tok = train_tokenizer(strings=strings,num_words= num_words)"
   ]
  },
  {
   "cell_type": "code",
   "execution_count": 8,
   "metadata": {
    "collapsed": true
   },
   "outputs": [],
   "source": [
    "# tok.texts_to_sequences(['的 了'])"
   ]
  },
  {
   "cell_type": "code",
   "execution_count": 9,
   "metadata": {},
   "outputs": [
    {
     "data": {
      "text/html": [
       "<div>\n",
       "<style scoped>\n",
       "    .dataframe tbody tr th:only-of-type {\n",
       "        vertical-align: middle;\n",
       "    }\n",
       "\n",
       "    .dataframe tbody tr th {\n",
       "        vertical-align: top;\n",
       "    }\n",
       "\n",
       "    .dataframe thead th {\n",
       "        text-align: right;\n",
       "    }\n",
       "</style>\n",
       "<table border=\"1\" class=\"dataframe\">\n",
       "  <thead>\n",
       "    <tr style=\"text-align: right;\">\n",
       "      <th></th>\n",
       "      <th>push_tag</th>\n",
       "      <th>push_content</th>\n",
       "      <th>label</th>\n",
       "      <th>push_content_cut</th>\n",
       "      <th>push_content_cut_join</th>\n",
       "      <th>sequence</th>\n",
       "    </tr>\n",
       "  </thead>\n",
       "  <tbody>\n",
       "    <tr>\n",
       "      <th>0</th>\n",
       "      <td>→</td>\n",
       "      <td>現在都要拖出來鞭膩</td>\n",
       "      <td>missing</td>\n",
       "      <td>[現在, 都, 要, 拖出來, 鞭膩]</td>\n",
       "      <td>現在 都 要 拖出來 鞭膩</td>\n",
       "      <td>[78, 10, 12, 5576, 10469]</td>\n",
       "    </tr>\n",
       "    <tr>\n",
       "      <th>1</th>\n",
       "      <td>推</td>\n",
       "      <td>抓到了 抵制台獨</td>\n",
       "      <td>1</td>\n",
       "      <td>[抓到, 了,  , 抵制, 台獨]</td>\n",
       "      <td>抓到 了   抵制 台獨</td>\n",
       "      <td>[3500, 4, 2879, 4608]</td>\n",
       "    </tr>\n",
       "    <tr>\n",
       "      <th>2</th>\n",
       "      <td>→</td>\n",
       "      <td>9.2%的國歌是不可以在台灣外面播的</td>\n",
       "      <td>missing</td>\n",
       "      <td>[9.2%, 的, 國歌, 是, 不, 可以, 在, 台灣, 外面, 播, 的]</td>\n",
       "      <td>9.2% 的 國歌 是 不 可以 在 台灣 外面 播 的</td>\n",
       "      <td>[573, 228, 1, 10470, 3, 9, 27, 20, 90, 1012, 7...</td>\n",
       "    </tr>\n",
       "    <tr>\n",
       "      <th>3</th>\n",
       "      <td>→</td>\n",
       "      <td>年代不同現在這樣還要趕快下架,怕秋後算賬</td>\n",
       "      <td>missing</td>\n",
       "      <td>[年代, 不同, 現在, 這樣, 還要, 趕快, 下架, ,, 怕, 秋後算賬]</td>\n",
       "      <td>年代 不同 現在 這樣 還要 趕快 下架 , 怕 秋後算賬</td>\n",
       "      <td>[2880, 477, 78, 60, 160, 443, 5577, 257, 2676]</td>\n",
       "    </tr>\n",
       "    <tr>\n",
       "      <th>4</th>\n",
       "      <td>→</td>\n",
       "      <td>我不停的追逐 那黑色的幸福</td>\n",
       "      <td>missing</td>\n",
       "      <td>[我, 不停, 的, 追逐,  , 那, 黑色, 的, 幸福]</td>\n",
       "      <td>我 不停 的 追逐   那 黑色 的 幸福</td>\n",
       "      <td>[15, 4609, 1, 10471, 50, 7157, 1, 2881]</td>\n",
       "    </tr>\n",
       "  </tbody>\n",
       "</table>\n",
       "</div>"
      ],
      "text/plain": [
       "  push_tag          push_content    label  \\\n",
       "0        →             現在都要拖出來鞭膩  missing   \n",
       "1        推              抓到了 抵制台獨        1   \n",
       "2        →    9.2%的國歌是不可以在台灣外面播的  missing   \n",
       "3        →  年代不同現在這樣還要趕快下架,怕秋後算賬  missing   \n",
       "4        →         我不停的追逐 那黑色的幸福  missing   \n",
       "\n",
       "                           push_content_cut          push_content_cut_join  \\\n",
       "0                       [現在, 都, 要, 拖出來, 鞭膩]                  現在 都 要 拖出來 鞭膩   \n",
       "1                        [抓到, 了,  , 抵制, 台獨]                   抓到 了   抵制 台獨   \n",
       "2  [9.2%, 的, 國歌, 是, 不, 可以, 在, 台灣, 外面, 播, 的]   9.2% 的 國歌 是 不 可以 在 台灣 外面 播 的   \n",
       "3  [年代, 不同, 現在, 這樣, 還要, 趕快, 下架, ,, 怕, 秋後算賬]  年代 不同 現在 這樣 還要 趕快 下架 , 怕 秋後算賬   \n",
       "4           [我, 不停, 的, 追逐,  , 那, 黑色, 的, 幸福]          我 不停 的 追逐   那 黑色 的 幸福   \n",
       "\n",
       "                                            sequence  \n",
       "0                          [78, 10, 12, 5576, 10469]  \n",
       "1                              [3500, 4, 2879, 4608]  \n",
       "2  [573, 228, 1, 10470, 3, 9, 27, 20, 90, 1012, 7...  \n",
       "3     [2880, 477, 78, 60, 160, 443, 5577, 257, 2676]  \n",
       "4            [15, 4609, 1, 10471, 50, 7157, 1, 2881]  "
      ]
     },
     "execution_count": 9,
     "metadata": {},
     "output_type": "execute_result"
    }
   ],
   "source": [
    "df_all['sequence']=df_all.push_content_cut_join.apply(lambda x: tok.texts_to_sequences([x])[0])\n",
    "df_all.head()"
   ]
  },
  {
   "cell_type": "code",
   "execution_count": 10,
   "metadata": {},
   "outputs": [
    {
     "data": {
      "text/plain": [
       "[78, 10, 12, 5576, 10469]"
      ]
     },
     "execution_count": 10,
     "metadata": {},
     "output_type": "execute_result"
    }
   ],
   "source": [
    "# dir(tok)\n",
    "word2index=tok.word_index\n",
    "[word2index[word] for word in df_all.loc[0,'push_content_cut']]"
   ]
  },
  {
   "cell_type": "code",
   "execution_count": 11,
   "metadata": {
    "collapsed": true
   },
   "outputs": [],
   "source": [
    "# pad_sequences([[1,2]], maxlen=50, padding='pre')[0]"
   ]
  },
  {
   "cell_type": "code",
   "execution_count": 12,
   "metadata": {
    "scrolled": true
   },
   "outputs": [
    {
     "data": {
      "text/html": [
       "<div>\n",
       "<style scoped>\n",
       "    .dataframe tbody tr th:only-of-type {\n",
       "        vertical-align: middle;\n",
       "    }\n",
       "\n",
       "    .dataframe tbody tr th {\n",
       "        vertical-align: top;\n",
       "    }\n",
       "\n",
       "    .dataframe thead th {\n",
       "        text-align: right;\n",
       "    }\n",
       "</style>\n",
       "<table border=\"1\" class=\"dataframe\">\n",
       "  <thead>\n",
       "    <tr style=\"text-align: right;\">\n",
       "      <th></th>\n",
       "      <th>push_tag</th>\n",
       "      <th>push_content</th>\n",
       "      <th>label</th>\n",
       "      <th>push_content_cut</th>\n",
       "      <th>push_content_cut_join</th>\n",
       "      <th>sequence</th>\n",
       "      <th>padding</th>\n",
       "    </tr>\n",
       "  </thead>\n",
       "  <tbody>\n",
       "    <tr>\n",
       "      <th>0</th>\n",
       "      <td>→</td>\n",
       "      <td>現在都要拖出來鞭膩</td>\n",
       "      <td>missing</td>\n",
       "      <td>[現在, 都, 要, 拖出來, 鞭膩]</td>\n",
       "      <td>現在 都 要 拖出來 鞭膩</td>\n",
       "      <td>[78, 10, 12, 5576, 10469]</td>\n",
       "      <td>[0, 0, 0, 0, 0, 0, 0, 0, 0, 0, 0, 0, 0, 0, 0, ...</td>\n",
       "    </tr>\n",
       "    <tr>\n",
       "      <th>1</th>\n",
       "      <td>推</td>\n",
       "      <td>抓到了 抵制台獨</td>\n",
       "      <td>1</td>\n",
       "      <td>[抓到, 了,  , 抵制, 台獨]</td>\n",
       "      <td>抓到 了   抵制 台獨</td>\n",
       "      <td>[3500, 4, 2879, 4608]</td>\n",
       "      <td>[0, 0, 0, 0, 0, 0, 0, 0, 0, 0, 0, 0, 0, 0, 0, ...</td>\n",
       "    </tr>\n",
       "  </tbody>\n",
       "</table>\n",
       "</div>"
      ],
      "text/plain": [
       "  push_tag push_content    label     push_content_cut push_content_cut_join  \\\n",
       "0        →    現在都要拖出來鞭膩  missing  [現在, 都, 要, 拖出來, 鞭膩]         現在 都 要 拖出來 鞭膩   \n",
       "1        推     抓到了 抵制台獨        1   [抓到, 了,  , 抵制, 台獨]          抓到 了   抵制 台獨   \n",
       "\n",
       "                    sequence  \\\n",
       "0  [78, 10, 12, 5576, 10469]   \n",
       "1      [3500, 4, 2879, 4608]   \n",
       "\n",
       "                                             padding  \n",
       "0  [0, 0, 0, 0, 0, 0, 0, 0, 0, 0, 0, 0, 0, 0, 0, ...  \n",
       "1  [0, 0, 0, 0, 0, 0, 0, 0, 0, 0, 0, 0, 0, 0, 0, ...  "
      ]
     },
     "execution_count": 12,
     "metadata": {},
     "output_type": "execute_result"
    }
   ],
   "source": [
    "maxlen=50\n",
    "\n",
    "df_all['padding']=df_all.sequence.apply(\n",
    "    lambda x: pad_sequences([x], maxlen=maxlen, padding='pre')[0])\n",
    "\n",
    "df_all.head(2)\n"
   ]
  },
  {
   "cell_type": "code",
   "execution_count": 13,
   "metadata": {
    "scrolled": true
   },
   "outputs": [
    {
     "data": {
      "text/html": [
       "<div>\n",
       "<style scoped>\n",
       "    .dataframe tbody tr th:only-of-type {\n",
       "        vertical-align: middle;\n",
       "    }\n",
       "\n",
       "    .dataframe tbody tr th {\n",
       "        vertical-align: top;\n",
       "    }\n",
       "\n",
       "    .dataframe thead th {\n",
       "        text-align: right;\n",
       "    }\n",
       "</style>\n",
       "<table border=\"1\" class=\"dataframe\">\n",
       "  <thead>\n",
       "    <tr style=\"text-align: right;\">\n",
       "      <th></th>\n",
       "      <th>push_tag</th>\n",
       "      <th>push_content</th>\n",
       "      <th>label</th>\n",
       "      <th>push_content_cut</th>\n",
       "      <th>push_content_cut_join</th>\n",
       "      <th>sequence</th>\n",
       "      <th>padding</th>\n",
       "    </tr>\n",
       "  </thead>\n",
       "  <tbody>\n",
       "    <tr>\n",
       "      <th>1</th>\n",
       "      <td>推</td>\n",
       "      <td>抓到了 抵制台獨</td>\n",
       "      <td>1</td>\n",
       "      <td>[抓到, 了,  , 抵制, 台獨]</td>\n",
       "      <td>抓到 了   抵制 台獨</td>\n",
       "      <td>[3500, 4, 2879, 4608]</td>\n",
       "      <td>[0, 0, 0, 0, 0, 0, 0, 0, 0, 0, 0, 0, 0, 0, 0, ...</td>\n",
       "    </tr>\n",
       "    <tr>\n",
       "      <th>7</th>\n",
       "      <td>噓</td>\n",
       "      <td>會酸這種的都9.2跟五毛</td>\n",
       "      <td>0</td>\n",
       "      <td>[會酸, 這種, 的, 都, 9.2, 跟, 五毛]</td>\n",
       "      <td>會酸 這種 的 都 9.2 跟 五毛</td>\n",
       "      <td>[7158, 76, 1, 10, 573, 228, 29, 2028]</td>\n",
       "      <td>[0, 0, 0, 0, 0, 0, 0, 0, 0, 0, 0, 0, 0, 0, 0, ...</td>\n",
       "    </tr>\n",
       "  </tbody>\n",
       "</table>\n",
       "</div>"
      ],
      "text/plain": [
       "  push_tag  push_content label            push_content_cut  \\\n",
       "1        推      抓到了 抵制台獨     1          [抓到, 了,  , 抵制, 台獨]   \n",
       "7        噓  會酸這種的都9.2跟五毛     0  [會酸, 這種, 的, 都, 9.2, 跟, 五毛]   \n",
       "\n",
       "  push_content_cut_join                               sequence  \\\n",
       "1          抓到 了   抵制 台獨                  [3500, 4, 2879, 4608]   \n",
       "7    會酸 這種 的 都 9.2 跟 五毛  [7158, 76, 1, 10, 573, 228, 29, 2028]   \n",
       "\n",
       "                                             padding  \n",
       "1  [0, 0, 0, 0, 0, 0, 0, 0, 0, 0, 0, 0, 0, 0, 0, ...  \n",
       "7  [0, 0, 0, 0, 0, 0, 0, 0, 0, 0, 0, 0, 0, 0, 0, ...  "
      ]
     },
     "metadata": {},
     "output_type": "display_data"
    },
    {
     "data": {
      "text/html": [
       "<div>\n",
       "<style scoped>\n",
       "    .dataframe tbody tr th:only-of-type {\n",
       "        vertical-align: middle;\n",
       "    }\n",
       "\n",
       "    .dataframe tbody tr th {\n",
       "        vertical-align: top;\n",
       "    }\n",
       "\n",
       "    .dataframe thead th {\n",
       "        text-align: right;\n",
       "    }\n",
       "</style>\n",
       "<table border=\"1\" class=\"dataframe\">\n",
       "  <thead>\n",
       "    <tr style=\"text-align: right;\">\n",
       "      <th></th>\n",
       "      <th>push_tag</th>\n",
       "      <th>push_content</th>\n",
       "      <th>label</th>\n",
       "      <th>push_content_cut</th>\n",
       "      <th>push_content_cut_join</th>\n",
       "      <th>sequence</th>\n",
       "      <th>padding</th>\n",
       "    </tr>\n",
       "  </thead>\n",
       "  <tbody>\n",
       "    <tr>\n",
       "      <th>0</th>\n",
       "      <td>→</td>\n",
       "      <td>現在都要拖出來鞭膩</td>\n",
       "      <td>missing</td>\n",
       "      <td>[現在, 都, 要, 拖出來, 鞭膩]</td>\n",
       "      <td>現在 都 要 拖出來 鞭膩</td>\n",
       "      <td>[78, 10, 12, 5576, 10469]</td>\n",
       "      <td>[0, 0, 0, 0, 0, 0, 0, 0, 0, 0, 0, 0, 0, 0, 0, ...</td>\n",
       "    </tr>\n",
       "    <tr>\n",
       "      <th>2</th>\n",
       "      <td>→</td>\n",
       "      <td>9.2%的國歌是不可以在台灣外面播的</td>\n",
       "      <td>missing</td>\n",
       "      <td>[9.2%, 的, 國歌, 是, 不, 可以, 在, 台灣, 外面, 播, 的]</td>\n",
       "      <td>9.2% 的 國歌 是 不 可以 在 台灣 外面 播 的</td>\n",
       "      <td>[573, 228, 1, 10470, 3, 9, 27, 20, 90, 1012, 7...</td>\n",
       "      <td>[0, 0, 0, 0, 0, 0, 0, 0, 0, 0, 0, 0, 0, 0, 0, ...</td>\n",
       "    </tr>\n",
       "  </tbody>\n",
       "</table>\n",
       "</div>"
      ],
      "text/plain": [
       "  push_tag        push_content    label  \\\n",
       "0        →           現在都要拖出來鞭膩  missing   \n",
       "2        →  9.2%的國歌是不可以在台灣外面播的  missing   \n",
       "\n",
       "                           push_content_cut         push_content_cut_join  \\\n",
       "0                       [現在, 都, 要, 拖出來, 鞭膩]                 現在 都 要 拖出來 鞭膩   \n",
       "2  [9.2%, 的, 國歌, 是, 不, 可以, 在, 台灣, 外面, 播, 的]  9.2% 的 國歌 是 不 可以 在 台灣 外面 播 的   \n",
       "\n",
       "                                            sequence  \\\n",
       "0                          [78, 10, 12, 5576, 10469]   \n",
       "2  [573, 228, 1, 10470, 3, 9, 27, 20, 90, 1012, 7...   \n",
       "\n",
       "                                             padding  \n",
       "0  [0, 0, 0, 0, 0, 0, 0, 0, 0, 0, 0, 0, 0, 0, 0, ...  \n",
       "2  [0, 0, 0, 0, 0, 0, 0, 0, 0, 0, 0, 0, 0, 0, 0, ...  "
      ]
     },
     "metadata": {},
     "output_type": "display_data"
    }
   ],
   "source": [
    "c=df_all.label!='missing'\n",
    "df_train=df_all[c]\n",
    "\n",
    "c=df_all.label=='missing'\n",
    "df_test=df_all[c]\n",
    "\n",
    "display(df_train.head(2))\n",
    "display(df_test.head(2))"
   ]
  },
  {
   "cell_type": "code",
   "execution_count": null,
   "metadata": {
    "collapsed": true
   },
   "outputs": [],
   "source": []
  },
  {
   "cell_type": "code",
   "execution_count": 14,
   "metadata": {},
   "outputs": [
    {
     "data": {
      "text/plain": [
       "((17619, 50), (17619,), (17371, 50))"
      ]
     },
     "execution_count": 14,
     "metadata": {},
     "output_type": "execute_result"
    }
   ],
   "source": [
    "x_all=np.array(df_train.padding.tolist())\n",
    "y_all=np.array(df_train.label.tolist())\n",
    "\n",
    "x_test=np.array(df_test.padding.tolist())\n",
    "\n",
    "x_all.shape,y_all.shape,x_test.shape"
   ]
  },
  {
   "cell_type": "code",
   "execution_count": 15,
   "metadata": {},
   "outputs": [
    {
     "data": {
      "text/plain": [
       "((15857, 50), (1762, 50), (15857,), (1762,))"
      ]
     },
     "execution_count": 15,
     "metadata": {},
     "output_type": "execute_result"
    }
   ],
   "source": [
    "x_train, x_valid, y_train, y_valid = train_test_split(x_all, y_all, test_size=0.1, random_state=42)\n",
    "\n",
    "x_train.shape, x_valid.shape, y_train.shape, y_valid.shape"
   ]
  },
  {
   "cell_type": "code",
   "execution_count": 16,
   "metadata": {
    "scrolled": true
   },
   "outputs": [
    {
     "name": "stdout",
     "output_type": "stream",
     "text": [
      "30000 50\n"
     ]
    }
   ],
   "source": [
    "print(num_words,maxlen)"
   ]
  },
  {
   "cell_type": "code",
   "execution_count": 17,
   "metadata": {},
   "outputs": [
    {
     "name": "stdout",
     "output_type": "stream",
     "text": [
      "_________________________________________________________________\n",
      "Layer (type)                 Output Shape              Param #   \n",
      "=================================================================\n",
      "embedding_1 (Embedding)      (None, 50, 100)           3000000   \n",
      "_________________________________________________________________\n",
      "spatial_dropout1d_1 (Spatial (None, 50, 100)           0         \n",
      "_________________________________________________________________\n",
      "lstm_1 (LSTM)                (None, 100)               80400     \n",
      "_________________________________________________________________\n",
      "dense_1 (Dense)              (None, 50)                5050      \n",
      "_________________________________________________________________\n",
      "dense_2 (Dense)              (None, 1)                 51        \n",
      "=================================================================\n",
      "Total params: 3,085,501\n",
      "Trainable params: 3,085,501\n",
      "Non-trainable params: 0\n",
      "_________________________________________________________________\n"
     ]
    }
   ],
   "source": [
    "model = Sequential()\n",
    "model.add(Embedding(input_dim=num_words, output_dim=100, input_length=maxlen))\n",
    "\n",
    "\n",
    "model.add(SpatialDropout1D(0.4))\n",
    "model.add(LSTM(100, dropout=0.2, recurrent_dropout=0.2))\n",
    "model.add(Dense(50, activation='relu'))\n",
    "model.add(Dense(1, activation='sigmoid'))\n",
    "\n",
    "model.summary()\n",
    "model.compile(loss='binary_crossentropy',optimizer='adam',metrics=['accuracy'])"
   ]
  },
  {
   "cell_type": "code",
   "execution_count": null,
   "metadata": {
    "collapsed": true
   },
   "outputs": [],
   "source": []
  },
  {
   "cell_type": "code",
   "execution_count": 18,
   "metadata": {
    "collapsed": true
   },
   "outputs": [],
   "source": [
    "def make_dir(path):\n",
    "    if not os.path.exists(path):\n",
    "        os.makedirs(path)\n",
    "\n",
    "early_stopping = EarlyStopping(monitor='val_acc', mode='max', verbose=1, patience=10, min_delta=0.001)\n",
    "\n",
    "dir_name='flight'\n",
    "dir_path=os.path.join('.','dataset','weights',dir_name)\n",
    "make_dir(dir_path)\n",
    "\n",
    "file_name = 'sentiment'\n",
    "file_name += '-'+\"epoch_{epoch:02d}-val_acc_{val_acc:.3f}.hdf5\"\n",
    "path=os.path.join(dir_path,file_name)\n",
    "checkpointer = ModelCheckpoint(filepath=path, verbose=1, monitor='val_acc', save_best_only=True, mode='max', period=1)\n"
   ]
  },
  {
   "cell_type": "code",
   "execution_count": 19,
   "metadata": {
    "scrolled": true
   },
   "outputs": [
    {
     "name": "stdout",
     "output_type": "stream",
     "text": [
      "Train on 15857 samples, validate on 1762 samples\n",
      "Epoch 1/100\n",
      "15857/15857 [==============================] - 16s 1ms/step - loss: 0.6405 - acc: 0.6991 - val_loss: 0.6099 - val_acc: 0.7060\n",
      "\n",
      "Epoch 00001: val_acc improved from -inf to 0.70602, saving model to ./dataset/weights/flight/sentiment-epoch_01-val_acc_0.706.hdf5\n",
      "Epoch 2/100\n",
      "15857/15857 [==============================] - 2s 134us/step - loss: 0.6048 - acc: 0.7028 - val_loss: 0.5982 - val_acc: 0.7060\n",
      "\n",
      "Epoch 00002: val_acc did not improve from 0.70602\n",
      "Epoch 3/100\n",
      "15857/15857 [==============================] - 2s 131us/step - loss: 0.5868 - acc: 0.7033 - val_loss: 0.5858 - val_acc: 0.7043\n",
      "\n",
      "Epoch 00003: val_acc did not improve from 0.70602\n",
      "Epoch 4/100\n",
      "15857/15857 [==============================] - 2s 125us/step - loss: 0.5443 - acc: 0.7184 - val_loss: 0.5657 - val_acc: 0.7134\n",
      "\n",
      "Epoch 00004: val_acc improved from 0.70602 to 0.71339, saving model to ./dataset/weights/flight/sentiment-epoch_04-val_acc_0.713.hdf5\n",
      "Epoch 5/100\n",
      "15857/15857 [==============================] - 2s 118us/step - loss: 0.4749 - acc: 0.7737 - val_loss: 0.5826 - val_acc: 0.7077\n",
      "\n",
      "Epoch 00005: val_acc did not improve from 0.71339\n",
      "Epoch 6/100\n",
      "15857/15857 [==============================] - 2s 120us/step - loss: 0.4083 - acc: 0.8153 - val_loss: 0.6217 - val_acc: 0.7037\n",
      "\n",
      "Epoch 00006: val_acc did not improve from 0.71339\n",
      "Epoch 7/100\n",
      "15857/15857 [==============================] - 2s 121us/step - loss: 0.3529 - acc: 0.8471 - val_loss: 0.6735 - val_acc: 0.6896\n",
      "\n",
      "Epoch 00007: val_acc did not improve from 0.71339\n",
      "Epoch 8/100\n",
      "15857/15857 [==============================] - 2s 119us/step - loss: 0.3112 - acc: 0.8679 - val_loss: 0.7301 - val_acc: 0.6935\n",
      "\n",
      "Epoch 00008: val_acc did not improve from 0.71339\n",
      "Epoch 9/100\n",
      "15857/15857 [==============================] - 2s 114us/step - loss: 0.2815 - acc: 0.8830 - val_loss: 0.7904 - val_acc: 0.6759\n",
      "\n",
      "Epoch 00009: val_acc did not improve from 0.71339\n",
      "Epoch 10/100\n",
      "15857/15857 [==============================] - 2s 116us/step - loss: 0.2551 - acc: 0.8943 - val_loss: 0.8281 - val_acc: 0.6725\n",
      "\n",
      "Epoch 00010: val_acc did not improve from 0.71339\n",
      "Epoch 11/100\n",
      "15857/15857 [==============================] - 2s 119us/step - loss: 0.2350 - acc: 0.9029 - val_loss: 0.8566 - val_acc: 0.6652\n",
      "\n",
      "Epoch 00011: val_acc did not improve from 0.71339\n",
      "Epoch 12/100\n",
      "15857/15857 [==============================] - 2s 113us/step - loss: 0.2226 - acc: 0.9083 - val_loss: 0.9061 - val_acc: 0.6703\n",
      "\n",
      "Epoch 00012: val_acc did not improve from 0.71339\n",
      "Epoch 13/100\n",
      "15857/15857 [==============================] - 2s 119us/step - loss: 0.2061 - acc: 0.9151 - val_loss: 0.9621 - val_acc: 0.6674\n",
      "\n",
      "Epoch 00013: val_acc did not improve from 0.71339\n",
      "Epoch 14/100\n",
      "15857/15857 [==============================] - 2s 122us/step - loss: 0.1957 - acc: 0.9202 - val_loss: 1.0201 - val_acc: 0.6561\n",
      "\n",
      "Epoch 00014: val_acc did not improve from 0.71339\n",
      "Epoch 00014: early stopping\n"
     ]
    }
   ],
   "source": [
    "    \n",
    "batch_size=1000\n",
    "epochs=100\n",
    "\n",
    "history = model.fit(x_train, y_train,\n",
    "                    batch_size=batch_size,\n",
    "                    epochs=epochs,\n",
    "                    shuffle=True,\n",
    "                    validation_data=[x_valid,y_valid],\n",
    "                    callbacks=[early_stopping,checkpointer])"
   ]
  },
  {
   "cell_type": "code",
   "execution_count": 20,
   "metadata": {
    "scrolled": true
   },
   "outputs": [
    {
     "data": {
      "image/png": "[encoded data removed]",
      "text/plain": [
       "<matplotlib.figure.Figure at 0x7efdb85d1e80>"
      ]
     },
     "metadata": {},
     "output_type": "display_data"
    },
    {
     "data": {
      "image/png": "[encoded data removed]",
      "text/plain": [
       "<matplotlib.figure.Figure at 0x7efdb857e7f0>"
      ]
     },
     "metadata": {},
     "output_type": "display_data"
    }
   ],
   "source": [
    "plt.plot(history.history['acc'])\n",
    "plt.plot(history.history['val_acc'])\n",
    "plt.title('LSTM', fontsize=30)\n",
    "plt.ylabel('acc', fontsize=30)\n",
    "plt.xlabel('epoch', fontsize=20)\n",
    "plt.legend(['train', 'val'], loc='upper right')\n",
    "plt.show()\n",
    "\n",
    "plt.plot(history.history['loss'])\n",
    "plt.plot(history.history['val_loss'])\n",
    "plt.title('LSTM', fontsize=30)\n",
    "plt.ylabel('cross entropy', fontsize=30)\n",
    "plt.xlabel('epoch', fontsize=20)\n",
    "plt.legend(['train', 'val'], loc='upper right')\n",
    "plt.show()"
   ]
  },
  {
   "cell_type": "code",
   "execution_count": null,
   "metadata": {
    "collapsed": true
   },
   "outputs": [],
   "source": []
  },
  {
   "cell_type": "code",
   "execution_count": null,
   "metadata": {
    "collapsed": true
   },
   "outputs": [],
   "source": []
  },
  {
   "cell_type": "code",
   "execution_count": null,
   "metadata": {
    "collapsed": true
   },
   "outputs": [],
   "source": []
  },
  {
   "cell_type": "code",
   "execution_count": null,
   "metadata": {
    "collapsed": true
   },
   "outputs": [],
   "source": []
  },
  {
   "cell_type": "markdown",
   "metadata": {},
   "source": [
    "- load best model"
   ]
  },
  {
   "cell_type": "code",
   "execution_count": 23,
   "metadata": {},
   "outputs": [
    {
     "name": "stdout",
     "output_type": "stream",
     "text": [
      "./dataset/weights/flight/sentiment-epoch_04-val_acc_0.713.hdf5\n"
     ]
    }
   ],
   "source": [
    "weights=glob(os.path.join(dir_path,'*')) \n",
    "weights.sort()\n",
    "best_weight=weights[-1]\n",
    "print(best_weight)\n",
    "\n",
    "best_nn=load_model(best_weight)"
   ]
  },
  {
   "cell_type": "code",
   "execution_count": 30,
   "metadata": {
    "collapsed": true
   },
   "outputs": [],
   "source": [
    "y_test=best_nn.predict(x_test).reshape(-1)"
   ]
  },
  {
   "cell_type": "code",
   "execution_count": 36,
   "metadata": {
    "collapsed": true
   },
   "outputs": [],
   "source": [
    "y_test=[int(round(y)) for y in y_test]"
   ]
  },
  {
   "cell_type": "code",
   "execution_count": 46,
   "metadata": {
    "scrolled": true
   },
   "outputs": [
    {
     "data": {
      "text/html": [
       "<div>\n",
       "<style scoped>\n",
       "    .dataframe tbody tr th:only-of-type {\n",
       "        vertical-align: middle;\n",
       "    }\n",
       "\n",
       "    .dataframe tbody tr th {\n",
       "        vertical-align: top;\n",
       "    }\n",
       "\n",
       "    .dataframe thead th {\n",
       "        text-align: right;\n",
       "    }\n",
       "</style>\n",
       "<table border=\"1\" class=\"dataframe\">\n",
       "  <thead>\n",
       "    <tr style=\"text-align: right;\">\n",
       "      <th></th>\n",
       "      <th>push_tag</th>\n",
       "      <th>push_content</th>\n",
       "      <th>label</th>\n",
       "      <th>push_content_cut</th>\n",
       "      <th>push_content_cut_join</th>\n",
       "      <th>sequence</th>\n",
       "      <th>padding</th>\n",
       "      <th>label2</th>\n",
       "    </tr>\n",
       "  </thead>\n",
       "  <tbody>\n",
       "    <tr>\n",
       "      <th>34985</th>\n",
       "      <td>→</td>\n",
       "      <td>哈哈哈死好</td>\n",
       "      <td>missing</td>\n",
       "      <td>[哈哈哈, 死, 好]</td>\n",
       "      <td>哈哈哈 死 好</td>\n",
       "      <td>[261, 49, 23]</td>\n",
       "      <td>[0, 0, 0, 0, 0, 0, 0, 0, 0, 0, 0, 0, 0, 0, 0, ...</td>\n",
       "      <td>1</td>\n",
       "    </tr>\n",
       "    <tr>\n",
       "      <th>34986</th>\n",
       "      <td>→</td>\n",
       "      <td>這殺小工會</td>\n",
       "      <td>missing</td>\n",
       "      <td>[這殺, 小, 工會]</td>\n",
       "      <td>這殺 小 工會</td>\n",
       "      <td>[23932, 166, 17]</td>\n",
       "      <td>[0, 0, 0, 0, 0, 0, 0, 0, 0, 0, 0, 0, 0, 0, 0, ...</td>\n",
       "      <td>1</td>\n",
       "    </tr>\n",
       "    <tr>\n",
       "      <th>34987</th>\n",
       "      <td>推</td>\n",
       "      <td>剛好而已不是嗎？</td>\n",
       "      <td>1</td>\n",
       "      <td>[剛好, 而已, 不是, 嗎, ？]</td>\n",
       "      <td>剛好 而已 不是 嗎 ？</td>\n",
       "      <td>[414, 170, 34, 16, 5]</td>\n",
       "      <td>[0, 0, 0, 0, 0, 0, 0, 0, 0, 0, 0, 0, 0, 0, 0, ...</td>\n",
       "      <td>1</td>\n",
       "    </tr>\n",
       "    <tr>\n",
       "      <th>34988</th>\n",
       "      <td>噓</td>\n",
       "      <td>OP</td>\n",
       "      <td>0</td>\n",
       "      <td>[OP]</td>\n",
       "      <td>OP</td>\n",
       "      <td>[4182]</td>\n",
       "      <td>[0, 0, 0, 0, 0, 0, 0, 0, 0, 0, 0, 0, 0, 0, 0, ...</td>\n",
       "      <td>0</td>\n",
       "    </tr>\n",
       "    <tr>\n",
       "      <th>34989</th>\n",
       "      <td>→</td>\n",
       "      <td>郭董:\"暴政必亡!!\"</td>\n",
       "      <td>missing</td>\n",
       "      <td>[ , 郭董, :, \", 暴政, 必亡, !, !, \"]</td>\n",
       "      <td>郭董 : \" 暴政 必亡 ! ! \"</td>\n",
       "      <td>[5127, 23933, 23934]</td>\n",
       "      <td>[0, 0, 0, 0, 0, 0, 0, 0, 0, 0, 0, 0, 0, 0, 0, ...</td>\n",
       "      <td>1</td>\n",
       "    </tr>\n",
       "  </tbody>\n",
       "</table>\n",
       "</div>"
      ],
      "text/plain": [
       "      push_tag  push_content    label                push_content_cut  \\\n",
       "34985        →         哈哈哈死好  missing                     [哈哈哈, 死, 好]   \n",
       "34986        →         這殺小工會  missing                     [這殺, 小, 工會]   \n",
       "34987        推      剛好而已不是嗎？        1              [剛好, 而已, 不是, 嗎, ？]   \n",
       "34988        噓            OP        0                            [OP]   \n",
       "34989        →   郭董:\"暴政必亡!!\"  missing  [ , 郭董, :, \", 暴政, 必亡, !, !, \"]   \n",
       "\n",
       "      push_content_cut_join               sequence  \\\n",
       "34985               哈哈哈 死 好          [261, 49, 23]   \n",
       "34986               這殺 小 工會       [23932, 166, 17]   \n",
       "34987          剛好 而已 不是 嗎 ？  [414, 170, 34, 16, 5]   \n",
       "34988                    OP                 [4182]   \n",
       "34989    郭董 : \" 暴政 必亡 ! ! \"   [5127, 23933, 23934]   \n",
       "\n",
       "                                                 padding label2  \n",
       "34985  [0, 0, 0, 0, 0, 0, 0, 0, 0, 0, 0, 0, 0, 0, 0, ...      1  \n",
       "34986  [0, 0, 0, 0, 0, 0, 0, 0, 0, 0, 0, 0, 0, 0, 0, ...      1  \n",
       "34987  [0, 0, 0, 0, 0, 0, 0, 0, 0, 0, 0, 0, 0, 0, 0, ...      1  \n",
       "34988  [0, 0, 0, 0, 0, 0, 0, 0, 0, 0, 0, 0, 0, 0, 0, ...      0  \n",
       "34989  [0, 0, 0, 0, 0, 0, 0, 0, 0, 0, 0, 0, 0, 0, 0, ...      1  "
      ]
     },
     "execution_count": 46,
     "metadata": {},
     "output_type": "execute_result"
    }
   ],
   "source": [
    "df_all['label2']=df_all['label']\n",
    "c=df_all.label2=='missing'\n",
    "df_all.loc[c,'label2']=y_test\n",
    "df_all.tail()"
   ]
  },
  {
   "cell_type": "code",
   "execution_count": null,
   "metadata": {
    "collapsed": true
   },
   "outputs": [],
   "source": []
  },
  {
   "cell_type": "code",
   "execution_count": 47,
   "metadata": {},
   "outputs": [
    {
     "data": {
      "text/html": [
       "<div>\n",
       "<style scoped>\n",
       "    .dataframe tbody tr th:only-of-type {\n",
       "        vertical-align: middle;\n",
       "    }\n",
       "\n",
       "    .dataframe tbody tr th {\n",
       "        vertical-align: top;\n",
       "    }\n",
       "\n",
       "    .dataframe thead th {\n",
       "        text-align: right;\n",
       "    }\n",
       "</style>\n",
       "<table border=\"1\" class=\"dataframe\">\n",
       "  <thead>\n",
       "    <tr style=\"text-align: right;\">\n",
       "      <th></th>\n",
       "      <th>push_id</th>\n",
       "      <th>push_user</th>\n",
       "      <th>push_tag</th>\n",
       "      <th>push_time</th>\n",
       "      <th>push_content</th>\n",
       "      <th>push_weekday</th>\n",
       "      <th>push_ip</th>\n",
       "      <th>article_id</th>\n",
       "      <th>label</th>\n",
       "    </tr>\n",
       "  </thead>\n",
       "  <tbody>\n",
       "    <tr>\n",
       "      <th>34985</th>\n",
       "      <td>35193</td>\n",
       "      <td>Pheromone</td>\n",
       "      <td>→</td>\n",
       "      <td>2019-09-01 22:24:00</td>\n",
       "      <td>哈哈哈死好</td>\n",
       "      <td>6</td>\n",
       "      <td>42.72.155.30</td>\n",
       "      <td>568</td>\n",
       "      <td>1</td>\n",
       "    </tr>\n",
       "    <tr>\n",
       "      <th>34986</th>\n",
       "      <td>35194</td>\n",
       "      <td>zxc90147</td>\n",
       "      <td>→</td>\n",
       "      <td>2019-09-01 23:10:00</td>\n",
       "      <td>這殺小工會</td>\n",
       "      <td>6</td>\n",
       "      <td>42.75.122.114</td>\n",
       "      <td>568</td>\n",
       "      <td>1</td>\n",
       "    </tr>\n",
       "    <tr>\n",
       "      <th>34987</th>\n",
       "      <td>35195</td>\n",
       "      <td>hellam</td>\n",
       "      <td>推</td>\n",
       "      <td>2019-09-02 00:05:00</td>\n",
       "      <td>剛好而已不是嗎？</td>\n",
       "      <td>0</td>\n",
       "      <td>117.19.147.15</td>\n",
       "      <td>568</td>\n",
       "      <td>1</td>\n",
       "    </tr>\n",
       "    <tr>\n",
       "      <th>34988</th>\n",
       "      <td>35196</td>\n",
       "      <td>TobyH4cker</td>\n",
       "      <td>噓</td>\n",
       "      <td>2019-09-02 18:25:00</td>\n",
       "      <td>OP</td>\n",
       "      <td>0</td>\n",
       "      <td>36.227.225.178</td>\n",
       "      <td>568</td>\n",
       "      <td>0</td>\n",
       "    </tr>\n",
       "    <tr>\n",
       "      <th>34989</th>\n",
       "      <td>35197</td>\n",
       "      <td>gwenwoo</td>\n",
       "      <td>→</td>\n",
       "      <td>2019-09-02 21:16:00</td>\n",
       "      <td>郭董:\"暴政必亡!!\"</td>\n",
       "      <td>0</td>\n",
       "      <td>114.32.164.59</td>\n",
       "      <td>568</td>\n",
       "      <td>1</td>\n",
       "    </tr>\n",
       "  </tbody>\n",
       "</table>\n",
       "</div>"
      ],
      "text/plain": [
       "       push_id   push_user push_tag            push_time  push_content  \\\n",
       "34985    35193   Pheromone        →  2019-09-01 22:24:00         哈哈哈死好   \n",
       "34986    35194    zxc90147        →  2019-09-01 23:10:00         這殺小工會   \n",
       "34987    35195      hellam        推  2019-09-02 00:05:00      剛好而已不是嗎？   \n",
       "34988    35196  TobyH4cker        噓  2019-09-02 18:25:00            OP   \n",
       "34989    35197     gwenwoo        →  2019-09-02 21:16:00   郭董:\"暴政必亡!!\"   \n",
       "\n",
       "       push_weekday         push_ip  article_id label  \n",
       "34985             6    42.72.155.30         568     1  \n",
       "34986             6   42.75.122.114         568     1  \n",
       "34987             0   117.19.147.15         568     1  \n",
       "34988             0  36.227.225.178         568     0  \n",
       "34989             0   114.32.164.59         568     1  "
      ]
     },
     "execution_count": 47,
     "metadata": {},
     "output_type": "execute_result"
    }
   ],
   "source": [
    "pushs['label']=df_all['label2']\n",
    "pushs.tail()"
   ]
  },
  {
   "cell_type": "code",
   "execution_count": 50,
   "metadata": {},
   "outputs": [
    {
     "data": {
      "text/html": [
       "<div>\n",
       "<style scoped>\n",
       "    .dataframe tbody tr th:only-of-type {\n",
       "        vertical-align: middle;\n",
       "    }\n",
       "\n",
       "    .dataframe tbody tr th {\n",
       "        vertical-align: top;\n",
       "    }\n",
       "\n",
       "    .dataframe thead th {\n",
       "        text-align: right;\n",
       "    }\n",
       "</style>\n",
       "<table border=\"1\" class=\"dataframe\">\n",
       "  <thead>\n",
       "    <tr style=\"text-align: right;\">\n",
       "      <th></th>\n",
       "      <th>push_id</th>\n",
       "      <th>push_user</th>\n",
       "      <th>push_tag</th>\n",
       "      <th>push_time</th>\n",
       "      <th>push_content</th>\n",
       "      <th>push_weekday</th>\n",
       "      <th>push_ip</th>\n",
       "      <th>article_id</th>\n",
       "      <th>label</th>\n",
       "      <th>article_user</th>\n",
       "      <th>article_group</th>\n",
       "      <th>article_title</th>\n",
       "      <th>article_time</th>\n",
       "      <th>article_weekday</th>\n",
       "      <th>article_ip</th>\n",
       "      <th>article_url</th>\n",
       "    </tr>\n",
       "  </thead>\n",
       "  <tbody>\n",
       "    <tr>\n",
       "      <th>34985</th>\n",
       "      <td>35193</td>\n",
       "      <td>Pheromone</td>\n",
       "      <td>→</td>\n",
       "      <td>2019-09-01 22:24:00</td>\n",
       "      <td>哈哈哈死好</td>\n",
       "      <td>6</td>\n",
       "      <td>42.72.155.30</td>\n",
       "      <td>568</td>\n",
       "      <td>1</td>\n",
       "      <td>Government</td>\n",
       "      <td>Gossiping</td>\n",
       "      <td>[新聞] 空服員工會爆「秋後算帳」長榮空姐！</td>\n",
       "      <td>2019-09-01 18:31:05</td>\n",
       "      <td>6</td>\n",
       "      <td>223.140.78.45</td>\n",
       "      <td>https://www.ptt.cc/bbs/Gossiping/M.1567333868....</td>\n",
       "    </tr>\n",
       "    <tr>\n",
       "      <th>34986</th>\n",
       "      <td>35194</td>\n",
       "      <td>zxc90147</td>\n",
       "      <td>→</td>\n",
       "      <td>2019-09-01 23:10:00</td>\n",
       "      <td>這殺小工會</td>\n",
       "      <td>6</td>\n",
       "      <td>42.75.122.114</td>\n",
       "      <td>568</td>\n",
       "      <td>1</td>\n",
       "      <td>Government</td>\n",
       "      <td>Gossiping</td>\n",
       "      <td>[新聞] 空服員工會爆「秋後算帳」長榮空姐！</td>\n",
       "      <td>2019-09-01 18:31:05</td>\n",
       "      <td>6</td>\n",
       "      <td>223.140.78.45</td>\n",
       "      <td>https://www.ptt.cc/bbs/Gossiping/M.1567333868....</td>\n",
       "    </tr>\n",
       "    <tr>\n",
       "      <th>34987</th>\n",
       "      <td>35195</td>\n",
       "      <td>hellam</td>\n",
       "      <td>推</td>\n",
       "      <td>2019-09-02 00:05:00</td>\n",
       "      <td>剛好而已不是嗎？</td>\n",
       "      <td>0</td>\n",
       "      <td>117.19.147.15</td>\n",
       "      <td>568</td>\n",
       "      <td>1</td>\n",
       "      <td>Government</td>\n",
       "      <td>Gossiping</td>\n",
       "      <td>[新聞] 空服員工會爆「秋後算帳」長榮空姐！</td>\n",
       "      <td>2019-09-01 18:31:05</td>\n",
       "      <td>6</td>\n",
       "      <td>223.140.78.45</td>\n",
       "      <td>https://www.ptt.cc/bbs/Gossiping/M.1567333868....</td>\n",
       "    </tr>\n",
       "    <tr>\n",
       "      <th>34988</th>\n",
       "      <td>35196</td>\n",
       "      <td>TobyH4cker</td>\n",
       "      <td>噓</td>\n",
       "      <td>2019-09-02 18:25:00</td>\n",
       "      <td>OP</td>\n",
       "      <td>0</td>\n",
       "      <td>36.227.225.178</td>\n",
       "      <td>568</td>\n",
       "      <td>0</td>\n",
       "      <td>Government</td>\n",
       "      <td>Gossiping</td>\n",
       "      <td>[新聞] 空服員工會爆「秋後算帳」長榮空姐！</td>\n",
       "      <td>2019-09-01 18:31:05</td>\n",
       "      <td>6</td>\n",
       "      <td>223.140.78.45</td>\n",
       "      <td>https://www.ptt.cc/bbs/Gossiping/M.1567333868....</td>\n",
       "    </tr>\n",
       "    <tr>\n",
       "      <th>34989</th>\n",
       "      <td>35197</td>\n",
       "      <td>gwenwoo</td>\n",
       "      <td>→</td>\n",
       "      <td>2019-09-02 21:16:00</td>\n",
       "      <td>郭董:\"暴政必亡!!\"</td>\n",
       "      <td>0</td>\n",
       "      <td>114.32.164.59</td>\n",
       "      <td>568</td>\n",
       "      <td>1</td>\n",
       "      <td>Government</td>\n",
       "      <td>Gossiping</td>\n",
       "      <td>[新聞] 空服員工會爆「秋後算帳」長榮空姐！</td>\n",
       "      <td>2019-09-01 18:31:05</td>\n",
       "      <td>6</td>\n",
       "      <td>223.140.78.45</td>\n",
       "      <td>https://www.ptt.cc/bbs/Gossiping/M.1567333868....</td>\n",
       "    </tr>\n",
       "  </tbody>\n",
       "</table>\n",
       "</div>"
      ],
      "text/plain": [
       "       push_id   push_user push_tag            push_time  push_content  \\\n",
       "34985    35193   Pheromone        →  2019-09-01 22:24:00         哈哈哈死好   \n",
       "34986    35194    zxc90147        →  2019-09-01 23:10:00         這殺小工會   \n",
       "34987    35195      hellam        推  2019-09-02 00:05:00      剛好而已不是嗎？   \n",
       "34988    35196  TobyH4cker        噓  2019-09-02 18:25:00            OP   \n",
       "34989    35197     gwenwoo        →  2019-09-02 21:16:00   郭董:\"暴政必亡!!\"   \n",
       "\n",
       "       push_weekday         push_ip  article_id label article_user  \\\n",
       "34985             6    42.72.155.30         568     1   Government   \n",
       "34986             6   42.75.122.114         568     1   Government   \n",
       "34987             0   117.19.147.15         568     1   Government   \n",
       "34988             0  36.227.225.178         568     0   Government   \n",
       "34989             0   114.32.164.59         568     1   Government   \n",
       "\n",
       "      article_group            article_title         article_time  \\\n",
       "34985     Gossiping  [新聞] 空服員工會爆「秋後算帳」長榮空姐！　  2019-09-01 18:31:05   \n",
       "34986     Gossiping  [新聞] 空服員工會爆「秋後算帳」長榮空姐！　  2019-09-01 18:31:05   \n",
       "34987     Gossiping  [新聞] 空服員工會爆「秋後算帳」長榮空姐！　  2019-09-01 18:31:05   \n",
       "34988     Gossiping  [新聞] 空服員工會爆「秋後算帳」長榮空姐！　  2019-09-01 18:31:05   \n",
       "34989     Gossiping  [新聞] 空服員工會爆「秋後算帳」長榮空姐！　  2019-09-01 18:31:05   \n",
       "\n",
       "       article_weekday     article_ip  \\\n",
       "34985                6  223.140.78.45   \n",
       "34986                6  223.140.78.45   \n",
       "34987                6  223.140.78.45   \n",
       "34988                6  223.140.78.45   \n",
       "34989                6  223.140.78.45   \n",
       "\n",
       "                                             article_url  \n",
       "34985  https://www.ptt.cc/bbs/Gossiping/M.1567333868....  \n",
       "34986  https://www.ptt.cc/bbs/Gossiping/M.1567333868....  \n",
       "34987  https://www.ptt.cc/bbs/Gossiping/M.1567333868....  \n",
       "34988  https://www.ptt.cc/bbs/Gossiping/M.1567333868....  \n",
       "34989  https://www.ptt.cc/bbs/Gossiping/M.1567333868....  "
      ]
     },
     "execution_count": 50,
     "metadata": {},
     "output_type": "execute_result"
    }
   ],
   "source": [
    "result=pd.merge(left=pushs,right=articles,on='article_id',how='inner')\n",
    "result.tail()"
   ]
  },
  {
   "cell_type": "code",
   "execution_count": null,
   "metadata": {
    "collapsed": true
   },
   "outputs": [],
   "source": []
  },
  {
   "cell_type": "code",
   "execution_count": null,
   "metadata": {
    "collapsed": true
   },
   "outputs": [],
   "source": []
  },
  {
   "cell_type": "code",
   "execution_count": 51,
   "metadata": {
    "collapsed": true
   },
   "outputs": [],
   "source": [
    "path=os.path.join('.','dataset','flight.pickle')\n",
    "result.to_pickle(path)"
   ]
  },
  {
   "cell_type": "code",
   "execution_count": null,
   "metadata": {
    "collapsed": true
   },
   "outputs": [],
   "source": []
  },
  {
   "cell_type": "code",
   "execution_count": null,
   "metadata": {
    "collapsed": true
   },
   "outputs": [],
   "source": []
  }
 ],
 "metadata": {
  "kernelspec": {
   "display_name": "Python 3",
   "language": "python",
   "name": "python3"
  },
  "language_info": {
   "codemirror_mode": {
    "name": "ipython",
    "version": 3
   },
   "file_extension": ".py",
   "mimetype": "text/x-python",
   "name": "python",
   "nbconvert_exporter": "python",
   "pygments_lexer": "ipython3",
   "version": "3.6.5"
  }
 },
 "nbformat": 4,
 "nbformat_minor": 2
}
