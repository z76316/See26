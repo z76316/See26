{
 "cells": [
  {
   "cell_type": "code",
   "execution_count": 17,
   "metadata": {},
   "outputs": [],
   "source": [
    "from keras.layers import Input, Dense, Embedding, Flatten, dot, BatchNormalization\n",
    "from keras.models import Model\n",
    "from keras.utils import get_custom_objects\n",
    "import keras.backend as K\n",
    "\n",
    "from IPython.display import display\n",
    "import pandas as pd\n",
    "import numpy as np\n",
    "import os\n",
    "from random import shuffle\n",
    "from IPython.display import display\n",
    "from sklearn.utils import shuffle\n",
    "from sklearn import preprocessing\n",
    "import matplotlib.pyplot as plt\n"
   ]
  },
  {
   "cell_type": "markdown",
   "metadata": {},
   "source": [
    "# load data"
   ]
  },
  {
   "cell_type": "code",
   "execution_count": 18,
   "metadata": {
    "collapsed": true
   },
   "outputs": [],
   "source": [
    "# a=pd.DataFrame({'movie':[1,1,1,1,1],'user':[1,1,1,2,2],'rating':[1,2,-5,1,9]})\n",
    "# display(a)\n",
    "# a.groupby(['movie', 'user'])[\"rating\"].sum().reset_index()\n"
   ]
  },
  {
   "cell_type": "code",
   "execution_count": 19,
   "metadata": {
    "scrolled": true
   },
   "outputs": [
    {
     "data": {
      "text/html": [
       "<div>\n",
       "<style scoped>\n",
       "    .dataframe tbody tr th:only-of-type {\n",
       "        vertical-align: middle;\n",
       "    }\n",
       "\n",
       "    .dataframe tbody tr th {\n",
       "        vertical-align: top;\n",
       "    }\n",
       "\n",
       "    .dataframe thead th {\n",
       "        text-align: right;\n",
       "    }\n",
       "</style>\n",
       "<table border=\"1\" class=\"dataframe\">\n",
       "  <thead>\n",
       "    <tr style=\"text-align: right;\">\n",
       "      <th></th>\n",
       "      <th>push_id</th>\n",
       "      <th>is_push</th>\n",
       "      <th>push_author</th>\n",
       "      <th>push_dt</th>\n",
       "      <th>train_or_test</th>\n",
       "      <th>content</th>\n",
       "      <th>label</th>\n",
       "      <th>article_id</th>\n",
       "      <th>push_num</th>\n",
       "      <th>title</th>\n",
       "      <th>href</th>\n",
       "      <th>article_author</th>\n",
       "      <th>article_dt</th>\n",
       "    </tr>\n",
       "  </thead>\n",
       "  <tbody>\n",
       "    <tr>\n",
       "      <th>0</th>\n",
       "      <td>1</td>\n",
       "      <td>推</td>\n",
       "      <td>RazaviSmith</td>\n",
       "      <td>2019-06-08 23:03:00.000000</td>\n",
       "      <td>train</td>\n",
       "      <td>我也覺得勇士會拿下G5</td>\n",
       "      <td>1</td>\n",
       "      <td>1560006190</td>\n",
       "      <td>14</td>\n",
       "      <td>[討論] 接下來勇士會觸底反彈吧 Win or Go Home</td>\n",
       "      <td>www.ptt.cc/bbs/NBA/M.1560006190.A.408.html</td>\n",
       "      <td>Metaphor</td>\n",
       "      <td>2019-06-08</td>\n",
       "    </tr>\n",
       "  </tbody>\n",
       "</table>\n",
       "</div>"
      ],
      "text/plain": [
       "   push_id is_push  push_author                     push_dt train_or_test  \\\n",
       "0        1       推  RazaviSmith  2019-06-08 23:03:00.000000         train   \n",
       "\n",
       "       content label  article_id push_num                            title  \\\n",
       "0  我也覺得勇士會拿下G5     1  1560006190       14  [討論] 接下來勇士會觸底反彈吧 Win or Go Home   \n",
       "\n",
       "                                         href article_author  article_dt  \n",
       "0  www.ptt.cc/bbs/NBA/M.1560006190.A.408.html       Metaphor  2019-06-08  "
      ]
     },
     "execution_count": 19,
     "metadata": {},
     "output_type": "execute_result"
    }
   ],
   "source": [
    "path=os.path.join('.','dataset','nba.pickle')\n",
    "data=pd.read_pickle(path)\n",
    "data.head(1)"
   ]
  },
  {
   "cell_type": "code",
   "execution_count": 20,
   "metadata": {
    "scrolled": false
   },
   "outputs": [
    {
     "data": {
      "text/html": [
       "<div>\n",
       "<style scoped>\n",
       "    .dataframe tbody tr th:only-of-type {\n",
       "        vertical-align: middle;\n",
       "    }\n",
       "\n",
       "    .dataframe tbody tr th {\n",
       "        vertical-align: top;\n",
       "    }\n",
       "\n",
       "    .dataframe thead th {\n",
       "        text-align: right;\n",
       "    }\n",
       "</style>\n",
       "<table border=\"1\" class=\"dataframe\">\n",
       "  <thead>\n",
       "    <tr style=\"text-align: right;\">\n",
       "      <th></th>\n",
       "      <th>article_id</th>\n",
       "      <th>push_author</th>\n",
       "      <th>rating</th>\n",
       "    </tr>\n",
       "  </thead>\n",
       "  <tbody>\n",
       "    <tr>\n",
       "      <th>0</th>\n",
       "      <td>1554601416</td>\n",
       "      <td>Acetoxy</td>\n",
       "      <td>1</td>\n",
       "    </tr>\n",
       "    <tr>\n",
       "      <th>1</th>\n",
       "      <td>1554601416</td>\n",
       "      <td>Bainite</td>\n",
       "      <td>1</td>\n",
       "    </tr>\n",
       "    <tr>\n",
       "      <th>2</th>\n",
       "      <td>1554601416</td>\n",
       "      <td>BlackHaoHow</td>\n",
       "      <td>1</td>\n",
       "    </tr>\n",
       "    <tr>\n",
       "      <th>3</th>\n",
       "      <td>1554601416</td>\n",
       "      <td>Blazeleo819</td>\n",
       "      <td>1</td>\n",
       "    </tr>\n",
       "    <tr>\n",
       "      <th>4</th>\n",
       "      <td>1554601416</td>\n",
       "      <td>BruceChen227</td>\n",
       "      <td>2</td>\n",
       "    </tr>\n",
       "  </tbody>\n",
       "</table>\n",
       "</div>"
      ],
      "text/plain": [
       "   article_id   push_author  rating\n",
       "0  1554601416       Acetoxy       1\n",
       "1  1554601416       Bainite       1\n",
       "2  1554601416   BlackHaoHow       1\n",
       "3  1554601416   Blazeleo819       1\n",
       "4  1554601416  BruceChen227       2"
      ]
     },
     "execution_count": 20,
     "metadata": {},
     "output_type": "execute_result"
    }
   ],
   "source": [
    "# columns=['article_id','push_author','label']\n",
    "# data2=data[columns].copy()\n",
    "# data2['label']=data2['label'].apply(lambda x: -1 if x==0 else 1)\n",
    "# data2=data2.sort_values(by=['article_id','push_author'])\n",
    "# data2\n",
    "\n",
    "def change_label(data):\n",
    "    columns=['article_id','push_author','label']\n",
    "    data2=data[columns].copy()\n",
    "    data2['label']=data2['label'].apply(lambda x: -1 if x==0 else 1)\n",
    "    data2=data2.sort_values(by=['article_id','push_author'])\n",
    "    \n",
    "    data2=data2.groupby(['article_id', 'push_author'])[\"label\"].sum().reset_index()\n",
    "    data2=data2.rename(columns={'label':'rating'})\n",
    "    \n",
    "    return data2\n",
    "\n",
    "data2=change_label(data)\n",
    "data2.head(5)"
   ]
  },
  {
   "cell_type": "code",
   "execution_count": 21,
   "metadata": {},
   "outputs": [
    {
     "name": "stdout",
     "output_type": "stream",
     "text": [
      "(3631, 3)\n",
      "(48,)\n",
      "(2058,)\n"
     ]
    }
   ],
   "source": [
    "print(data2.shape)\n",
    "print(data2.article_id.unique().shape)\n",
    "print(data2.push_author.unique().shape)"
   ]
  },
  {
   "cell_type": "code",
   "execution_count": 22,
   "metadata": {
    "collapsed": true,
    "scrolled": true
   },
   "outputs": [],
   "source": [
    "# users=pd.DataFrame({'push_author':data2.push_author.unique()})\n",
    "# users['userID']=users.index\n",
    "\n",
    "# articles=pd.DataFrame({'article_id':data2.article_id.unique()})\n",
    "# articles['articleID']=articles.index\n",
    "\n",
    "def get_users_articles(data2):\n",
    "    users=pd.DataFrame({'push_author':data2.push_author.unique()})\n",
    "    users['userID']=users.index\n",
    "\n",
    "    articles=pd.DataFrame({'article_id':data2.article_id.unique()})\n",
    "    articles['articleID']=articles.index\n",
    "\n",
    "    return users,articles\n",
    "\n",
    "users,articles=get_users_articles(data2)"
   ]
  },
  {
   "cell_type": "code",
   "execution_count": 23,
   "metadata": {
    "collapsed": true
   },
   "outputs": [],
   "source": [
    "# a=np.array([1.0,2,3])\n",
    "# print(preprocessing.scale(a))\n",
    "# mean=np.mean(a)\n",
    "# std=np.std(a)\n",
    "# print((a-mean)/std)"
   ]
  },
  {
   "cell_type": "code",
   "execution_count": 24,
   "metadata": {
    "scrolled": true
   },
   "outputs": [
    {
     "name": "stdout",
     "output_type": "stream",
     "text": [
      "min 1\n",
      "max 6\n"
     ]
    },
    {
     "data": {
      "text/html": [
       "<div>\n",
       "<style scoped>\n",
       "    .dataframe tbody tr th:only-of-type {\n",
       "        vertical-align: middle;\n",
       "    }\n",
       "\n",
       "    .dataframe tbody tr th {\n",
       "        vertical-align: top;\n",
       "    }\n",
       "\n",
       "    .dataframe thead th {\n",
       "        text-align: right;\n",
       "    }\n",
       "</style>\n",
       "<table border=\"1\" class=\"dataframe\">\n",
       "  <thead>\n",
       "    <tr style=\"text-align: right;\">\n",
       "      <th></th>\n",
       "      <th>userID</th>\n",
       "      <th>articleID</th>\n",
       "      <th>rating</th>\n",
       "      <th>rating_clip</th>\n",
       "      <th>rating_shift</th>\n",
       "    </tr>\n",
       "  </thead>\n",
       "  <tbody>\n",
       "    <tr>\n",
       "      <th>3626</th>\n",
       "      <td>2053</td>\n",
       "      <td>46</td>\n",
       "      <td>1</td>\n",
       "      <td>1</td>\n",
       "      <td>4</td>\n",
       "    </tr>\n",
       "    <tr>\n",
       "      <th>3627</th>\n",
       "      <td>2054</td>\n",
       "      <td>46</td>\n",
       "      <td>0</td>\n",
       "      <td>0</td>\n",
       "      <td>3</td>\n",
       "    </tr>\n",
       "    <tr>\n",
       "      <th>3628</th>\n",
       "      <td>2055</td>\n",
       "      <td>47</td>\n",
       "      <td>2</td>\n",
       "      <td>2</td>\n",
       "      <td>5</td>\n",
       "    </tr>\n",
       "    <tr>\n",
       "      <th>3629</th>\n",
       "      <td>2056</td>\n",
       "      <td>47</td>\n",
       "      <td>1</td>\n",
       "      <td>1</td>\n",
       "      <td>4</td>\n",
       "    </tr>\n",
       "    <tr>\n",
       "      <th>3630</th>\n",
       "      <td>2057</td>\n",
       "      <td>47</td>\n",
       "      <td>1</td>\n",
       "      <td>1</td>\n",
       "      <td>4</td>\n",
       "    </tr>\n",
       "  </tbody>\n",
       "</table>\n",
       "</div>"
      ],
      "text/plain": [
       "      userID  articleID  rating  rating_clip  rating_shift\n",
       "3626    2053         46       1            1             4\n",
       "3627    2054         46       0            0             3\n",
       "3628    2055         47       2            2             5\n",
       "3629    2056         47       1            1             4\n",
       "3630    2057         47       1            1             4"
      ]
     },
     "execution_count": 24,
     "metadata": {},
     "output_type": "execute_result"
    }
   ],
   "source": [
    "# data3=pd.merge(left=data2,right=users, how='left', on='push_author')\n",
    "# data3=pd.merge(left=data3,right=articles, how='left', on='article_id')\n",
    "# data3=data3.sort_values(by=['userID'],ascending=True)\n",
    "# data3=data3[['userID','articleID','rating']].reset_index(drop=True)\n",
    "# data3\n",
    "\n",
    "# a = np.array([-3,-2,-1,0,1,2,3])\n",
    "# np.clip(a, -2, 2)\n",
    "\n",
    "# bound=3\n",
    "# rating_clip=np.clip(data_all['rating'].values, -bound, bound)  \n",
    "# data_all['rating_clip']=rating_clip\n",
    "# data_all['rating_shift']=data_all['rating_clip'].apply(lambda x: x+bound)\n",
    "# data_all.rating_shift.min()\n",
    "\n",
    "def get_data_all(data2,users,articles):\n",
    "    data3=pd.merge(left=data2,right=users, how='left', on='push_author')\n",
    "    data3=pd.merge(left=data3,right=articles, how='left', on='article_id')\n",
    "    data3=data3.sort_values(by=['userID'],ascending=True)\n",
    "    data3=data3[['userID','articleID','rating']].reset_index(drop=True)\n",
    "    \n",
    "    bound=3\n",
    "    rating_clip=np.clip(data3['rating'].values, -bound, bound)  \n",
    "    data3['rating_clip']=rating_clip\n",
    "    data3['rating_shift']=data3['rating_clip'].apply(lambda x: x+bound)\n",
    "    return data3\n",
    "\n",
    "data_all=get_data_all(data2,users,articles)\n",
    "print('min',data_all.rating_shift.min())\n",
    "print('max',data_all.rating_shift.max())\n",
    "data_all.tail()\n"
   ]
  },
  {
   "cell_type": "code",
   "execution_count": 25,
   "metadata": {
    "collapsed": true
   },
   "outputs": [],
   "source": [
    "# def normalize_rating(data_all):\n",
    "#     arr=data_all.rating.values\n",
    "#     rating_mean=np.mean(arr)\n",
    "#     rating_std=np.std(arr)\n",
    "#     rating_norm=(arr-rating_mean)/rating_std\n",
    "#     data_all['rating_norm']=rating_norm\n",
    "#     return data_all,rating_mean,rating_std\n",
    "\n",
    "# data_norm,rating_mean,rating_std=normalize_rating(data_all)\n",
    "# print(rating_mean,rating_std)\n",
    "# data_norm.head()"
   ]
  },
  {
   "cell_type": "code",
   "execution_count": 26,
   "metadata": {},
   "outputs": [
    {
     "name": "stdout",
     "output_type": "stream",
     "text": [
      "[0 1 2] [3 4 5 6 7 8 9]\n"
     ]
    }
   ],
   "source": [
    "# arr = np.arange(10)\n",
    "# shuffle(arr)\n",
    "# ratio=0.2\n",
    "# valid_num=int(len(arr)*ratio)\n",
    "# index_valid=arr[:valid_num]\n",
    "# index_train=arr[valid_num:]\n",
    "# print(index_valid,index_train)\n",
    "\n",
    "def get_index_train_valid(n=10,ratio=0.2):\n",
    "    arr = np.arange(n)\n",
    "    shuffle(arr)\n",
    "    valid_num=int(len(arr)*ratio)\n",
    "    index_valid=arr[:valid_num]\n",
    "    index_train=arr[valid_num:]\n",
    "    return (index_valid,index_train)\n",
    "\n",
    "index_valid,index_train=get_index_train_valid(n=10,ratio=0.3)\n",
    "print(index_valid,index_train)"
   ]
  },
  {
   "cell_type": "code",
   "execution_count": 27,
   "metadata": {
    "scrolled": true
   },
   "outputs": [
    {
     "name": "stdout",
     "output_type": "stream",
     "text": [
      "3631 3268 363\n",
      "(2058,) (48,)\n",
      "(1853,) (47,)\n"
     ]
    },
    {
     "data": {
      "text/html": [
       "<div>\n",
       "<style scoped>\n",
       "    .dataframe tbody tr th:only-of-type {\n",
       "        vertical-align: middle;\n",
       "    }\n",
       "\n",
       "    .dataframe tbody tr th {\n",
       "        vertical-align: top;\n",
       "    }\n",
       "\n",
       "    .dataframe thead th {\n",
       "        text-align: right;\n",
       "    }\n",
       "</style>\n",
       "<table border=\"1\" class=\"dataframe\">\n",
       "  <thead>\n",
       "    <tr style=\"text-align: right;\">\n",
       "      <th></th>\n",
       "      <th>userID</th>\n",
       "      <th>articleID</th>\n",
       "      <th>rating</th>\n",
       "      <th>rating_clip</th>\n",
       "      <th>rating_shift</th>\n",
       "    </tr>\n",
       "  </thead>\n",
       "  <tbody>\n",
       "    <tr>\n",
       "      <th>0</th>\n",
       "      <td>205</td>\n",
       "      <td>17</td>\n",
       "      <td>5</td>\n",
       "      <td>3</td>\n",
       "      <td>6</td>\n",
       "    </tr>\n",
       "    <tr>\n",
       "      <th>1</th>\n",
       "      <td>205</td>\n",
       "      <td>30</td>\n",
       "      <td>1</td>\n",
       "      <td>1</td>\n",
       "      <td>4</td>\n",
       "    </tr>\n",
       "    <tr>\n",
       "      <th>2</th>\n",
       "      <td>205</td>\n",
       "      <td>42</td>\n",
       "      <td>1</td>\n",
       "      <td>1</td>\n",
       "      <td>4</td>\n",
       "    </tr>\n",
       "    <tr>\n",
       "      <th>3</th>\n",
       "      <td>205</td>\n",
       "      <td>13</td>\n",
       "      <td>-1</td>\n",
       "      <td>-1</td>\n",
       "      <td>2</td>\n",
       "    </tr>\n",
       "    <tr>\n",
       "      <th>4</th>\n",
       "      <td>205</td>\n",
       "      <td>12</td>\n",
       "      <td>1</td>\n",
       "      <td>1</td>\n",
       "      <td>4</td>\n",
       "    </tr>\n",
       "  </tbody>\n",
       "</table>\n",
       "</div>"
      ],
      "text/plain": [
       "   userID  articleID  rating  rating_clip  rating_shift\n",
       "0     205         17       5            3             6\n",
       "1     205         30       1            1             4\n",
       "2     205         42       1            1             4\n",
       "3     205         13      -1           -1             2\n",
       "4     205         12       1            1             4"
      ]
     },
     "metadata": {},
     "output_type": "display_data"
    },
    {
     "data": {
      "text/html": [
       "<div>\n",
       "<style scoped>\n",
       "    .dataframe tbody tr th:only-of-type {\n",
       "        vertical-align: middle;\n",
       "    }\n",
       "\n",
       "    .dataframe tbody tr th {\n",
       "        vertical-align: top;\n",
       "    }\n",
       "\n",
       "    .dataframe thead th {\n",
       "        text-align: right;\n",
       "    }\n",
       "</style>\n",
       "<table border=\"1\" class=\"dataframe\">\n",
       "  <thead>\n",
       "    <tr style=\"text-align: right;\">\n",
       "      <th></th>\n",
       "      <th>userID</th>\n",
       "      <th>articleID</th>\n",
       "      <th>rating</th>\n",
       "      <th>rating_clip</th>\n",
       "      <th>rating_shift</th>\n",
       "    </tr>\n",
       "  </thead>\n",
       "  <tbody>\n",
       "    <tr>\n",
       "      <th>0</th>\n",
       "      <td>0</td>\n",
       "      <td>0</td>\n",
       "      <td>1</td>\n",
       "      <td>1</td>\n",
       "      <td>4</td>\n",
       "    </tr>\n",
       "    <tr>\n",
       "      <th>1</th>\n",
       "      <td>1</td>\n",
       "      <td>0</td>\n",
       "      <td>1</td>\n",
       "      <td>1</td>\n",
       "      <td>4</td>\n",
       "    </tr>\n",
       "    <tr>\n",
       "      <th>2</th>\n",
       "      <td>2</td>\n",
       "      <td>0</td>\n",
       "      <td>1</td>\n",
       "      <td>1</td>\n",
       "      <td>4</td>\n",
       "    </tr>\n",
       "    <tr>\n",
       "      <th>3</th>\n",
       "      <td>3</td>\n",
       "      <td>0</td>\n",
       "      <td>1</td>\n",
       "      <td>1</td>\n",
       "      <td>4</td>\n",
       "    </tr>\n",
       "    <tr>\n",
       "      <th>4</th>\n",
       "      <td>3</td>\n",
       "      <td>42</td>\n",
       "      <td>1</td>\n",
       "      <td>1</td>\n",
       "      <td>4</td>\n",
       "    </tr>\n",
       "  </tbody>\n",
       "</table>\n",
       "</div>"
      ],
      "text/plain": [
       "   userID  articleID  rating  rating_clip  rating_shift\n",
       "0       0          0       1            1             4\n",
       "1       1          0       1            1             4\n",
       "2       2          0       1            1             4\n",
       "3       3          0       1            1             4\n",
       "4       3         42       1            1             4"
      ]
     },
     "metadata": {},
     "output_type": "display_data"
    }
   ],
   "source": [
    "# index_valid,index_train=get_index_train_valid(n=len(data_all),ratio=0.1)\n",
    "# data_train=data_all.iloc[index_train].reset_index(drop=True)\n",
    "# data_valid=data_all.iloc[index_valid].reset_index(drop=True)\n",
    "# data_valid\n",
    "\n",
    "def get_data_train_valid(data_all):\n",
    "    index_valid,index_train=get_index_train_valid(n=len(data_all),ratio=0.1)\n",
    "    data_train=data_all.iloc[index_train].reset_index(drop=True)\n",
    "    data_valid=data_all.iloc[index_valid].reset_index(drop=True)\n",
    "    return data_train,data_valid\n",
    "\n",
    "data_train,data_valid=get_data_train_valid(data_all)\n",
    "print(len(data_all),len(data_train),len(data_valid))\n",
    "print(data_all.userID.unique().shape,data_all.articleID.unique().shape)\n",
    "print(data_train.userID.unique().shape,data_train.articleID.unique().shape)\n",
    "display(data_train.head())\n",
    "display(data_valid.head())"
   ]
  },
  {
   "cell_type": "markdown",
   "metadata": {},
   "source": [
    "# model"
   ]
  },
  {
   "cell_type": "code",
   "execution_count": 28,
   "metadata": {
    "collapsed": true
   },
   "outputs": [],
   "source": [
    "def rmse(y_true, y_pred):\n",
    "    y_pred = K.clip(y_pred, 0.0, 6.0)\n",
    "    return K.sqrt(K.mean(K.pow(y_true - y_pred, 2)))\n",
    "get_custom_objects().update({\"rmse\": rmse})\n"
   ]
  },
  {
   "cell_type": "code",
   "execution_count": 29,
   "metadata": {},
   "outputs": [
    {
     "name": "stdout",
     "output_type": "stream",
     "text": [
      "__________________________________________________________________________________________________\n",
      "Layer (type)                    Output Shape         Param #     Connected to                     \n",
      "==================================================================================================\n",
      "input_3 (InputLayer)            (None, 1)            0                                            \n",
      "__________________________________________________________________________________________________\n",
      "input_4 (InputLayer)            (None, 1)            0                                            \n",
      "__________________________________________________________________________________________________\n",
      "embedding_3 (Embedding)         (None, 1, 20)        60          input_3[0][0]                    \n",
      "__________________________________________________________________________________________________\n",
      "embedding_4 (Embedding)         (None, 1, 20)        160         input_4[0][0]                    \n",
      "__________________________________________________________________________________________________\n",
      "flatten_3 (Flatten)             (None, 20)           0           embedding_3[0][0]                \n",
      "__________________________________________________________________________________________________\n",
      "flatten_4 (Flatten)             (None, 20)           0           embedding_4[0][0]                \n",
      "__________________________________________________________________________________________________\n",
      "dot_2 (Dot)                     (None, 1)            0           flatten_3[0][0]                  \n",
      "                                                                 flatten_4[0][0]                  \n",
      "==================================================================================================\n",
      "Total params: 220\n",
      "Trainable params: 220\n",
      "Non-trainable params: 0\n",
      "__________________________________________________________________________________________________\n"
     ]
    }
   ],
   "source": [
    "input_length=1\n",
    "n_users=3\n",
    "n_movies=8\n",
    "latent_dim=20\n",
    "\n",
    "user_input = Input(shape=(input_length,))\n",
    "movie_input = Input(shape=(input_length,))\n",
    "\n",
    "user_vecter = Embedding(input_dim=n_users, output_dim=latent_dim, input_length=input_length, embeddings_initializer=\"random_normal\")(user_input)\n",
    "user_vecter = Flatten()(user_vecter)\n",
    "\n",
    "movie_vecter = Embedding(n_movies, latent_dim, embeddings_initializer=\"random_normal\")(movie_input)\n",
    "movie_vecter = Flatten()(movie_vecter)\n",
    "\n",
    "\n",
    "rating_predict = dot([user_vecter,movie_vecter],axes=1)\n",
    "\n",
    "model = Model([user_input,movie_input],rating_predict)\n",
    "\n",
    "model.compile(loss=\"mse\", optimizer=\"adam\", metrics=[rmse])\n",
    "\n",
    "model.summary()\n"
   ]
  },
  {
   "cell_type": "code",
   "execution_count": 30,
   "metadata": {
    "collapsed": true
   },
   "outputs": [],
   "source": [
    "x_train=[data_train.userID.values,data_train.articleID.values]\n",
    "y_train=[data_train.rating.values]\n",
    "x_valid=[data_valid.userID.values,data_valid.articleID.values]\n",
    "\n",
    "# y_valid=[data_valid.rating.values]\n",
    "y_valid=[data_valid.rating_shift.values]\n",
    "\n"
   ]
  },
  {
   "cell_type": "code",
   "execution_count": 31,
   "metadata": {},
   "outputs": [
    {
     "name": "stdout",
     "output_type": "stream",
     "text": [
      "Train on 3268 samples, validate on 363 samples\n",
      "Epoch 1/5\n",
      "3268/3268 [==============================] - 1s 429us/step - loss: 4.1591 - rmse: 1.6132 - val_loss: 16.6503 - val_rmse: 4.0700\n",
      "Epoch 2/5\n",
      "3268/3268 [==============================] - 1s 252us/step - loss: 4.1591 - rmse: 1.6281 - val_loss: 16.6503 - val_rmse: 4.0700\n",
      "Epoch 3/5\n",
      "3268/3268 [==============================] - 1s 262us/step - loss: 4.1591 - rmse: 1.6299 - val_loss: 16.6503 - val_rmse: 4.0700\n",
      "Epoch 4/5\n",
      "3268/3268 [==============================] - 1s 252us/step - loss: 4.1591 - rmse: 1.6195 - val_loss: 16.6503 - val_rmse: 4.0700\n",
      "Epoch 5/5\n",
      "3268/3268 [==============================] - 1s 269us/step - loss: 4.1591 - rmse: 1.6370 - val_loss: 16.6503 - val_rmse: 4.0700\n"
     ]
    }
   ],
   "source": [
    "# https://www.youtube.com/watch?v=BZh1ltr5Rkg\n",
    "# https://stackoverflow.com/questions/47312219/what-does-non-trainable-params-mean\n",
    "\n",
    "epochs=5\n",
    "batch_size=10\n",
    "history = model.fit(x_train,y_train,\n",
    "                    validation_data=(x_valid,y_valid),\n",
    "                    epochs=epochs,\n",
    "                    batch_size=batch_size,\n",
    "                    verbose=1, \n",
    "                    shuffle=True,\n",
    "                    )"
   ]
  },
  {
   "cell_type": "code",
   "execution_count": 32,
   "metadata": {},
   "outputs": [
    {
     "data": {
      "image/png": "[encoded data removed]",
      "text/plain": [
       "<matplotlib.figure.Figure at 0x7f1b3c374eb8>"
      ]
     },
     "metadata": {},
     "output_type": "display_data"
    }
   ],
   "source": [
    "def plot_history(history):\n",
    "    plt.figure(figsize=(3,2), dpi=150)\n",
    "    plt.plot(history.history['rmse'])\n",
    "    plt.plot(history.history['val_rmse'])\n",
    "    plt.title('Dense', fontsize=10)\n",
    "    plt.ylabel('RMSE', fontsize=8)\n",
    "    plt.xlabel('epoch', fontsize=8)\n",
    "    plt.legend(['train', 'val'], loc='upper right')\n",
    "    plt.show()\n",
    "\n",
    "plot_history(history)"
   ]
  },
  {
   "cell_type": "code",
   "execution_count": null,
   "metadata": {
    "collapsed": true
   },
   "outputs": [],
   "source": []
  }
 ],
 "metadata": {
  "kernelspec": {
   "display_name": "Python 3",
   "language": "python",
   "name": "python3"
  },
  "language_info": {
   "codemirror_mode": {
    "name": "ipython",
    "version": 3
   },
   "file_extension": ".py",
   "mimetype": "text/x-python",
   "name": "python",
   "nbconvert_exporter": "python",
   "pygments_lexer": "ipython3",
   "version": "3.6.5"
  }
 },
 "nbformat": 4,
 "nbformat_minor": 2
}
