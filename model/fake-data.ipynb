{
 "cells": [
  {
   "cell_type": "code",
   "execution_count": 1,
   "metadata": {},
   "outputs": [
    {
     "name": "stderr",
     "output_type": "stream",
     "text": [
      "Using TensorFlow backend.\n"
     ]
    }
   ],
   "source": [
    "from keras.layers import Input, Dense, Embedding, Flatten, dot, BatchNormalization\n",
    "from keras.models import Model, load_model \n",
    "from keras.utils import get_custom_objects\n",
    "import keras.backend as K\n",
    "from keras.callbacks import EarlyStopping,ModelCheckpoint\n",
    "\n",
    "from sklearn.manifold import TSNE\n",
    "from sklearn.model_selection import train_test_split\n",
    "from IPython.display import display\n",
    "import pandas as pd\n",
    "import numpy as np\n",
    "import os\n",
    "from random import shuffle, randint, sample\n",
    "from IPython.display import display\n",
    "from sklearn.utils import shuffle\n",
    "from sklearn import preprocessing\n",
    "import matplotlib.pyplot as plt\n",
    "from adjustText import adjust_text\n",
    "from glob import glob\n"
   ]
  },
  {
   "cell_type": "code",
   "execution_count": 2,
   "metadata": {},
   "outputs": [
    {
     "data": {
      "text/plain": [
       "2"
      ]
     },
     "execution_count": 2,
     "metadata": {},
     "output_type": "execute_result"
    }
   ],
   "source": [
    "randint(0,2)"
   ]
  },
  {
   "cell_type": "markdown",
   "metadata": {},
   "source": [
    "# generate data"
   ]
  },
  {
   "cell_type": "code",
   "execution_count": 3,
   "metadata": {},
   "outputs": [
    {
     "data": {
      "text/html": [
       "<div>\n",
       "<style scoped>\n",
       "    .dataframe tbody tr th:only-of-type {\n",
       "        vertical-align: middle;\n",
       "    }\n",
       "\n",
       "    .dataframe tbody tr th {\n",
       "        vertical-align: top;\n",
       "    }\n",
       "\n",
       "    .dataframe thead th {\n",
       "        text-align: right;\n",
       "    }\n",
       "</style>\n",
       "<table border=\"1\" class=\"dataframe\">\n",
       "  <thead>\n",
       "    <tr style=\"text-align: right;\">\n",
       "      <th></th>\n",
       "      <th>movie_id</th>\n",
       "    </tr>\n",
       "  </thead>\n",
       "  <tbody>\n",
       "    <tr>\n",
       "      <th>0</th>\n",
       "      <td>0</td>\n",
       "    </tr>\n",
       "    <tr>\n",
       "      <th>1</th>\n",
       "      <td>1</td>\n",
       "    </tr>\n",
       "    <tr>\n",
       "      <th>2</th>\n",
       "      <td>2</td>\n",
       "    </tr>\n",
       "    <tr>\n",
       "      <th>3</th>\n",
       "      <td>3</td>\n",
       "    </tr>\n",
       "    <tr>\n",
       "      <th>4</th>\n",
       "      <td>4</td>\n",
       "    </tr>\n",
       "    <tr>\n",
       "      <th>5</th>\n",
       "      <td>5</td>\n",
       "    </tr>\n",
       "  </tbody>\n",
       "</table>\n",
       "</div>"
      ],
      "text/plain": [
       "   movie_id\n",
       "0         0\n",
       "1         1\n",
       "2         2\n",
       "3         3\n",
       "4         4\n",
       "5         5"
      ]
     },
     "execution_count": 3,
     "metadata": {},
     "output_type": "execute_result"
    }
   ],
   "source": [
    "movies=pd.DataFrame({'movie_id':range(6)})\n",
    "movies"
   ]
  },
  {
   "cell_type": "code",
   "execution_count": 4,
   "metadata": {
    "scrolled": true
   },
   "outputs": [
    {
     "data": {
      "text/html": [
       "<div>\n",
       "<style scoped>\n",
       "    .dataframe tbody tr th:only-of-type {\n",
       "        vertical-align: middle;\n",
       "    }\n",
       "\n",
       "    .dataframe tbody tr th {\n",
       "        vertical-align: top;\n",
       "    }\n",
       "\n",
       "    .dataframe thead th {\n",
       "        text-align: right;\n",
       "    }\n",
       "</style>\n",
       "<table border=\"1\" class=\"dataframe\">\n",
       "  <thead>\n",
       "    <tr style=\"text-align: right;\">\n",
       "      <th></th>\n",
       "      <th>user_id</th>\n",
       "    </tr>\n",
       "  </thead>\n",
       "  <tbody>\n",
       "    <tr>\n",
       "      <th>39995</th>\n",
       "      <td>39995</td>\n",
       "    </tr>\n",
       "    <tr>\n",
       "      <th>39996</th>\n",
       "      <td>39996</td>\n",
       "    </tr>\n",
       "    <tr>\n",
       "      <th>39997</th>\n",
       "      <td>39997</td>\n",
       "    </tr>\n",
       "    <tr>\n",
       "      <th>39998</th>\n",
       "      <td>39998</td>\n",
       "    </tr>\n",
       "    <tr>\n",
       "      <th>39999</th>\n",
       "      <td>39999</td>\n",
       "    </tr>\n",
       "  </tbody>\n",
       "</table>\n",
       "</div>"
      ],
      "text/plain": [
       "       user_id\n",
       "39995    39995\n",
       "39996    39996\n",
       "39997    39997\n",
       "39998    39998\n",
       "39999    39999"
      ]
     },
     "execution_count": 4,
     "metadata": {},
     "output_type": "execute_result"
    }
   ],
   "source": [
    "users=pd.DataFrame({'user_id':range(40000)})\n",
    "users.tail()"
   ]
  },
  {
   "cell_type": "code",
   "execution_count": 5,
   "metadata": {},
   "outputs": [
    {
     "data": {
      "text/html": [
       "<div>\n",
       "<style scoped>\n",
       "    .dataframe tbody tr th:only-of-type {\n",
       "        vertical-align: middle;\n",
       "    }\n",
       "\n",
       "    .dataframe tbody tr th {\n",
       "        vertical-align: top;\n",
       "    }\n",
       "\n",
       "    .dataframe thead th {\n",
       "        text-align: right;\n",
       "    }\n",
       "</style>\n",
       "<table border=\"1\" class=\"dataframe\">\n",
       "  <thead>\n",
       "    <tr style=\"text-align: right;\">\n",
       "      <th></th>\n",
       "      <th>a</th>\n",
       "      <th>b</th>\n",
       "      <th>c</th>\n",
       "    </tr>\n",
       "  </thead>\n",
       "  <tbody>\n",
       "    <tr>\n",
       "      <th>0</th>\n",
       "      <td>1</td>\n",
       "      <td>2</td>\n",
       "      <td>3</td>\n",
       "    </tr>\n",
       "    <tr>\n",
       "      <th>1</th>\n",
       "      <td>4</td>\n",
       "      <td>5</td>\n",
       "      <td>6</td>\n",
       "    </tr>\n",
       "  </tbody>\n",
       "</table>\n",
       "</div>"
      ],
      "text/plain": [
       "   a  b  c\n",
       "0  1  2  3\n",
       "1  4  5  6"
      ]
     },
     "execution_count": 5,
     "metadata": {},
     "output_type": "execute_result"
    }
   ],
   "source": [
    "pd.DataFrame([[1,2,3],[4,5,6]],columns=['a','b','c'])"
   ]
  },
  {
   "cell_type": "code",
   "execution_count": 6,
   "metadata": {
    "scrolled": true
   },
   "outputs": [
    {
     "data": {
      "text/html": [
       "<div>\n",
       "<style scoped>\n",
       "    .dataframe tbody tr th:only-of-type {\n",
       "        vertical-align: middle;\n",
       "    }\n",
       "\n",
       "    .dataframe tbody tr th {\n",
       "        vertical-align: top;\n",
       "    }\n",
       "\n",
       "    .dataframe thead th {\n",
       "        text-align: right;\n",
       "    }\n",
       "</style>\n",
       "<table border=\"1\" class=\"dataframe\">\n",
       "  <thead>\n",
       "    <tr style=\"text-align: right;\">\n",
       "      <th></th>\n",
       "      <th>user_id</th>\n",
       "      <th>movie_id</th>\n",
       "      <th>rating</th>\n",
       "    </tr>\n",
       "  </thead>\n",
       "  <tbody>\n",
       "    <tr>\n",
       "      <th>239990</th>\n",
       "      <td>39998</td>\n",
       "      <td>2</td>\n",
       "      <td>-3</td>\n",
       "    </tr>\n",
       "    <tr>\n",
       "      <th>239991</th>\n",
       "      <td>39998</td>\n",
       "      <td>3</td>\n",
       "      <td>-3</td>\n",
       "    </tr>\n",
       "    <tr>\n",
       "      <th>239992</th>\n",
       "      <td>39998</td>\n",
       "      <td>4</td>\n",
       "      <td>-2</td>\n",
       "    </tr>\n",
       "    <tr>\n",
       "      <th>239993</th>\n",
       "      <td>39998</td>\n",
       "      <td>5</td>\n",
       "      <td>2</td>\n",
       "    </tr>\n",
       "    <tr>\n",
       "      <th>239994</th>\n",
       "      <td>39999</td>\n",
       "      <td>0</td>\n",
       "      <td>2</td>\n",
       "    </tr>\n",
       "    <tr>\n",
       "      <th>239995</th>\n",
       "      <td>39999</td>\n",
       "      <td>1</td>\n",
       "      <td>-2</td>\n",
       "    </tr>\n",
       "    <tr>\n",
       "      <th>239996</th>\n",
       "      <td>39999</td>\n",
       "      <td>2</td>\n",
       "      <td>-2</td>\n",
       "    </tr>\n",
       "    <tr>\n",
       "      <th>239997</th>\n",
       "      <td>39999</td>\n",
       "      <td>3</td>\n",
       "      <td>-2</td>\n",
       "    </tr>\n",
       "    <tr>\n",
       "      <th>239998</th>\n",
       "      <td>39999</td>\n",
       "      <td>4</td>\n",
       "      <td>-2</td>\n",
       "    </tr>\n",
       "    <tr>\n",
       "      <th>239999</th>\n",
       "      <td>39999</td>\n",
       "      <td>5</td>\n",
       "      <td>2</td>\n",
       "    </tr>\n",
       "  </tbody>\n",
       "</table>\n",
       "</div>"
      ],
      "text/plain": [
       "        user_id  movie_id  rating\n",
       "239990    39998         2      -3\n",
       "239991    39998         3      -3\n",
       "239992    39998         4      -2\n",
       "239993    39998         5       2\n",
       "239994    39999         0       2\n",
       "239995    39999         1      -2\n",
       "239996    39999         2      -2\n",
       "239997    39999         3      -2\n",
       "239998    39999         4      -2\n",
       "239999    39999         5       2"
      ]
     },
     "execution_count": 6,
     "metadata": {},
     "output_type": "execute_result"
    }
   ],
   "source": [
    "# 0~10000, 0/1 4~5, 2/3 1~2, 4/5 1~2\n",
    "# 10000~20000, 2/3 4~5, 0/1 1~2, 4/5 1~2\n",
    "# 20000~30000, 4/5 4~5, 2/3 1~2, 0/1 1~2\n",
    "# 30000~40000, 0/5 4~5, 1/2 1~2, 3/4 1~2\n",
    "\n",
    "dummy=[]\n",
    "\n",
    "for user in range(40000):\n",
    "    for movie in range(6):\n",
    "        if user in range(10000):\n",
    "            if movie in [0,1]:\n",
    "                dummy.append([user,movie,randint(2,3)])\n",
    "            elif movie in [2,3]:\n",
    "                dummy.append([user,movie,randint(-3,-2)])\n",
    "            elif movie in [4,5]:\n",
    "                dummy.append([user,movie,randint(-3,-2)])\n",
    "       \n",
    "        elif user in range(10000,20000):\n",
    "            if movie in [2,3]:\n",
    "                dummy.append([user,movie,randint(2,3)])\n",
    "            elif movie in [0,1]:\n",
    "                dummy.append([user,movie,randint(-3,-2)])\n",
    "            elif movie in [4,5]:\n",
    "                dummy.append([user,movie,randint(-3,-2)])\n",
    "        \n",
    "        elif user in range(20000,30000):\n",
    "            if movie in [4,5]:\n",
    "                dummy.append([user,movie,randint(2,3)])\n",
    "            elif movie in [2,3]:\n",
    "                dummy.append([user,movie,randint(-3,-2)])\n",
    "            elif movie in [0,1]:\n",
    "                dummy.append([user,movie,randint(-3,-2)])\n",
    "        \n",
    "        elif user in range(30000,40000):\n",
    "            if movie in [0,5]:\n",
    "                dummy.append([user,movie,randint(2,3)])\n",
    "            elif movie in [2,3]:\n",
    "                dummy.append([user,movie,randint(-3,-2)])\n",
    "            elif movie in [4,1]:\n",
    "                dummy.append([user,movie,randint(-3,-2)])\n",
    "\n",
    "data=pd.DataFrame(dummy,columns=['user_id','movie_id','rating'])\n",
    "data.tail(10)"
   ]
  },
  {
   "cell_type": "code",
   "execution_count": 7,
   "metadata": {
    "scrolled": true
   },
   "outputs": [
    {
     "data": {
      "text/html": [
       "<div>\n",
       "<style scoped>\n",
       "    .dataframe tbody tr th:only-of-type {\n",
       "        vertical-align: middle;\n",
       "    }\n",
       "\n",
       "    .dataframe tbody tr th {\n",
       "        vertical-align: top;\n",
       "    }\n",
       "\n",
       "    .dataframe thead th {\n",
       "        text-align: right;\n",
       "    }\n",
       "</style>\n",
       "<table border=\"1\" class=\"dataframe\">\n",
       "  <thead>\n",
       "    <tr style=\"text-align: right;\">\n",
       "      <th></th>\n",
       "      <th>user_id</th>\n",
       "      <th>movie_id</th>\n",
       "      <th>rating</th>\n",
       "    </tr>\n",
       "  </thead>\n",
       "  <tbody>\n",
       "    <tr>\n",
       "      <th>66672</th>\n",
       "      <td>11112</td>\n",
       "      <td>0</td>\n",
       "      <td>-2</td>\n",
       "    </tr>\n",
       "    <tr>\n",
       "      <th>66673</th>\n",
       "      <td>11112</td>\n",
       "      <td>1</td>\n",
       "      <td>-2</td>\n",
       "    </tr>\n",
       "    <tr>\n",
       "      <th>66674</th>\n",
       "      <td>11112</td>\n",
       "      <td>2</td>\n",
       "      <td>3</td>\n",
       "    </tr>\n",
       "    <tr>\n",
       "      <th>66675</th>\n",
       "      <td>11112</td>\n",
       "      <td>3</td>\n",
       "      <td>2</td>\n",
       "    </tr>\n",
       "    <tr>\n",
       "      <th>66676</th>\n",
       "      <td>11112</td>\n",
       "      <td>4</td>\n",
       "      <td>-2</td>\n",
       "    </tr>\n",
       "    <tr>\n",
       "      <th>66677</th>\n",
       "      <td>11112</td>\n",
       "      <td>5</td>\n",
       "      <td>-3</td>\n",
       "    </tr>\n",
       "  </tbody>\n",
       "</table>\n",
       "</div>"
      ],
      "text/plain": [
       "       user_id  movie_id  rating\n",
       "66672    11112         0      -2\n",
       "66673    11112         1      -2\n",
       "66674    11112         2       3\n",
       "66675    11112         3       2\n",
       "66676    11112         4      -2\n",
       "66677    11112         5      -3"
      ]
     },
     "execution_count": 7,
     "metadata": {},
     "output_type": "execute_result"
    }
   ],
   "source": [
    "data[data.user_id==11112]"
   ]
  },
  {
   "cell_type": "code",
   "execution_count": 8,
   "metadata": {
    "collapsed": true
   },
   "outputs": [],
   "source": [
    "data_train, data_test, _, _ = train_test_split(data, data, test_size=0.1, random_state=42)"
   ]
  },
  {
   "cell_type": "code",
   "execution_count": 9,
   "metadata": {
    "collapsed": true
   },
   "outputs": [],
   "source": [
    "x_train=[data_train.user_id.values,\n",
    "         data_train.movie_id.values]\n",
    "y_train=[data_train.rating.values]\n",
    "\n",
    "x_valid=[data_test.user_id.values,\n",
    "         data_test.movie_id.values]\n",
    "y_valid=[data_test.rating.values]\n",
    "\n"
   ]
  },
  {
   "cell_type": "code",
   "execution_count": null,
   "metadata": {
    "collapsed": true
   },
   "outputs": [],
   "source": []
  },
  {
   "cell_type": "code",
   "execution_count": null,
   "metadata": {
    "collapsed": true
   },
   "outputs": [],
   "source": []
  },
  {
   "cell_type": "markdown",
   "metadata": {},
   "source": [
    "# model"
   ]
  },
  {
   "cell_type": "code",
   "execution_count": 10,
   "metadata": {
    "collapsed": true
   },
   "outputs": [],
   "source": [
    "def rmse(y_true, y_pred, bound=2):\n",
    "    max_rating=bound*2\n",
    "    y_pred = K.clip(y_pred, 0.0, max_rating)\n",
    "    return K.sqrt(K.mean(K.pow(y_true - y_pred, 2)))\n",
    "\n",
    "get_custom_objects().update({\"rmse\": rmse})\n"
   ]
  },
  {
   "cell_type": "code",
   "execution_count": 11,
   "metadata": {},
   "outputs": [
    {
     "name": "stdout",
     "output_type": "stream",
     "text": [
      "__________________________________________________________________________________________________\n",
      "Layer (type)                    Output Shape         Param #     Connected to                     \n",
      "==================================================================================================\n",
      "input_1 (InputLayer)            (None, 1)            0                                            \n",
      "__________________________________________________________________________________________________\n",
      "input_2 (InputLayer)            (None, 1)            0                                            \n",
      "__________________________________________________________________________________________________\n",
      "embedding_1 (Embedding)         (None, 1, 40)        1600000     input_1[0][0]                    \n",
      "__________________________________________________________________________________________________\n",
      "embedding_2 (Embedding)         (None, 1, 40)        240         input_2[0][0]                    \n",
      "__________________________________________________________________________________________________\n",
      "flatten_1 (Flatten)             (None, 40)           0           embedding_1[0][0]                \n",
      "__________________________________________________________________________________________________\n",
      "flatten_2 (Flatten)             (None, 40)           0           embedding_2[0][0]                \n",
      "__________________________________________________________________________________________________\n",
      "dot_1 (Dot)                     (None, 1)            0           flatten_1[0][0]                  \n",
      "                                                                 flatten_2[0][0]                  \n",
      "==================================================================================================\n",
      "Total params: 1,600,240\n",
      "Trainable params: 1,600,240\n",
      "Non-trainable params: 0\n",
      "__________________________________________________________________________________________________\n"
     ]
    }
   ],
   "source": [
    "input_length=1\n",
    "n_movies=6\n",
    "n_users=40000\n",
    "latent_dim=40\n",
    "\n",
    "user_input = Input(shape=(input_length,))\n",
    "movie_input = Input(shape=(input_length,))\n",
    "\n",
    "user_vecter = Embedding(input_dim=n_users, output_dim=latent_dim, input_length=input_length, embeddings_initializer=\"random_normal\")(user_input)\n",
    "user_vecter = Flatten()(user_vecter)\n",
    "\n",
    "movie_vecter = Embedding(n_movies, latent_dim, embeddings_initializer=\"random_normal\")(movie_input)\n",
    "movie_vecter = Flatten()(movie_vecter)\n",
    "\n",
    "\n",
    "rating_predict = dot([user_vecter,movie_vecter],axes=1)\n",
    "\n",
    "model = Model([user_input,movie_input],rating_predict)\n",
    "\n",
    "model.compile(loss=\"mse\", optimizer=\"adam\", metrics=[rmse])\n",
    "\n",
    "model.summary()\n"
   ]
  },
  {
   "cell_type": "code",
   "execution_count": 12,
   "metadata": {},
   "outputs": [],
   "source": [
    "\n",
    "# path=os.path.join('.','dataset','weights','test')\n",
    "\n",
    "def make_dir(path):\n",
    "    if not os.path.exists(path):\n",
    "        os.makedirs(path)\n",
    "    \n",
    "# make_dir(path)"
   ]
  },
  {
   "cell_type": "code",
   "execution_count": 13,
   "metadata": {},
   "outputs": [],
   "source": [
    "early_stopping = EarlyStopping(monitor='val_rmse', mode='min', verbose=1, patience=10, min_delta=0.001)\n",
    "    \n",
    "dir_name='groups_4-laten_40'\n",
    "dir_path=os.path.join('.','dataset','weights',dir_name)\n",
    "make_dir(dir_path)\n",
    "\n",
    "file_name = 'recommender'\n",
    "file_name += '-'+\"epoch_{epoch:02d}-val_rmse_{val_rmse:.3f}.hdf5\"\n",
    "path=os.path.join(dir_path,file_name)\n",
    "checkpointer = ModelCheckpoint(filepath=path, verbose=1, monitor='val_rmse', save_best_only=True, mode='min', period=1)\n"
   ]
  },
  {
   "cell_type": "code",
   "execution_count": 14,
   "metadata": {
    "scrolled": true
   },
   "outputs": [
    {
     "name": "stdout",
     "output_type": "stream",
     "text": [
      "Train on 216000 samples, validate on 24000 samples\n",
      "Epoch 1/100\n",
      "216000/216000 [==============================] - 6s 27us/step - loss: 6.4777 - rmse: 2.5502 - val_loss: 6.3719 - val_rmse: 2.5409\n",
      "\n",
      "Epoch 00001: val_rmse improved from inf to 2.54089, saving model to ./dataset/weights/groups_4-laten_40/recommender-epoch_01-val_rmse_2.541.hdf5\n",
      "Epoch 2/100\n",
      "216000/216000 [==============================] - 1s 4us/step - loss: 5.7157 - rmse: 2.4876 - val_loss: 5.2847 - val_rmse: 2.4559\n",
      "\n",
      "Epoch 00002: val_rmse improved from 2.54089 to 2.45593, saving model to ./dataset/weights/groups_4-laten_40/recommender-epoch_02-val_rmse_2.456.hdf5\n",
      "Epoch 3/100\n",
      "216000/216000 [==============================] - 1s 4us/step - loss: 3.5964 - rmse: 2.2949 - val_loss: 3.9320 - val_rmse: 2.3388\n",
      "\n",
      "Epoch 00003: val_rmse improved from 2.45593 to 2.33881, saving model to ./dataset/weights/groups_4-laten_40/recommender-epoch_03-val_rmse_2.339.hdf5\n",
      "Epoch 4/100\n",
      "216000/216000 [==============================] - 1s 3us/step - loss: 1.9335 - rmse: 2.1542 - val_loss: 3.1314 - val_rmse: 2.2605\n",
      "\n",
      "Epoch 00004: val_rmse improved from 2.33881 to 2.26048, saving model to ./dataset/weights/groups_4-laten_40/recommender-epoch_04-val_rmse_2.260.hdf5\n",
      "Epoch 5/100\n",
      "216000/216000 [==============================] - 1s 3us/step - loss: 1.1072 - rmse: 2.1237 - val_loss: 2.6476 - val_rmse: 2.2179\n",
      "\n",
      "Epoch 00005: val_rmse improved from 2.26048 to 2.21792, saving model to ./dataset/weights/groups_4-laten_40/recommender-epoch_05-val_rmse_2.218.hdf5\n",
      "Epoch 6/100\n",
      "216000/216000 [==============================] - 1s 4us/step - loss: 0.6812 - rmse: 2.1209 - val_loss: 2.2873 - val_rmse: 2.2014\n",
      "\n",
      "Epoch 00006: val_rmse improved from 2.21792 to 2.20142, saving model to ./dataset/weights/groups_4-laten_40/recommender-epoch_06-val_rmse_2.201.hdf5\n",
      "Epoch 7/100\n",
      "216000/216000 [==============================] - 1s 4us/step - loss: 0.4450 - rmse: 2.1143 - val_loss: 1.9986 - val_rmse: 2.1952\n",
      "\n",
      "Epoch 00007: val_rmse improved from 2.20142 to 2.19522, saving model to ./dataset/weights/groups_4-laten_40/recommender-epoch_07-val_rmse_2.195.hdf5\n",
      "Epoch 8/100\n",
      "216000/216000 [==============================] - 1s 4us/step - loss: 0.2927 - rmse: 2.1051 - val_loss: 1.7681 - val_rmse: 2.1897\n",
      "\n",
      "Epoch 00008: val_rmse improved from 2.19522 to 2.18970, saving model to ./dataset/weights/groups_4-laten_40/recommender-epoch_08-val_rmse_2.190.hdf5\n",
      "Epoch 9/100\n",
      "216000/216000 [==============================] - 1s 4us/step - loss: 0.1871 - rmse: 2.0967 - val_loss: 1.5964 - val_rmse: 2.1846\n",
      "\n",
      "Epoch 00009: val_rmse improved from 2.18970 to 2.18458, saving model to ./dataset/weights/groups_4-laten_40/recommender-epoch_09-val_rmse_2.185.hdf5\n",
      "Epoch 10/100\n",
      "216000/216000 [==============================] - 1s 4us/step - loss: 0.1290 - rmse: 2.0918 - val_loss: 1.4898 - val_rmse: 2.1814\n",
      "\n",
      "Epoch 00010: val_rmse improved from 2.18458 to 2.18144, saving model to ./dataset/weights/groups_4-laten_40/recommender-epoch_10-val_rmse_2.181.hdf5\n",
      "Epoch 11/100\n",
      "216000/216000 [==============================] - 1s 4us/step - loss: 0.1019 - rmse: 2.0896 - val_loss: 1.4351 - val_rmse: 2.1803\n",
      "\n",
      "Epoch 00011: val_rmse improved from 2.18144 to 2.18027, saving model to ./dataset/weights/groups_4-laten_40/recommender-epoch_11-val_rmse_2.180.hdf5\n",
      "Epoch 12/100\n",
      "216000/216000 [==============================] - 1s 4us/step - loss: 0.0867 - rmse: 2.0882 - val_loss: 1.4147 - val_rmse: 2.1799\n",
      "\n",
      "Epoch 00012: val_rmse improved from 2.18027 to 2.17994, saving model to ./dataset/weights/groups_4-laten_40/recommender-epoch_12-val_rmse_2.180.hdf5\n",
      "Epoch 13/100\n",
      "216000/216000 [==============================] - 1s 4us/step - loss: 0.0761 - rmse: 2.0873 - val_loss: 1.4150 - val_rmse: 2.1802\n",
      "\n",
      "Epoch 00013: val_rmse did not improve from 2.17994\n",
      "Epoch 14/100\n",
      "216000/216000 [==============================] - 1s 4us/step - loss: 0.0682 - rmse: 2.0866 - val_loss: 1.4258 - val_rmse: 2.1808\n",
      "\n",
      "Epoch 00014: val_rmse did not improve from 2.17994\n",
      "Epoch 15/100\n",
      "216000/216000 [==============================] - 1s 4us/step - loss: 0.0624 - rmse: 2.0861 - val_loss: 1.4407 - val_rmse: 2.1815\n",
      "\n",
      "Epoch 00015: val_rmse did not improve from 2.17994\n",
      "Epoch 16/100\n",
      "216000/216000 [==============================] - 1s 4us/step - loss: 0.0582 - rmse: 2.0858 - val_loss: 1.4531 - val_rmse: 2.1819\n",
      "\n",
      "Epoch 00016: val_rmse did not improve from 2.17994\n",
      "Epoch 17/100\n",
      "216000/216000 [==============================] - 1s 4us/step - loss: 0.0545 - rmse: 2.0855 - val_loss: 1.4632 - val_rmse: 2.1825\n",
      "\n",
      "Epoch 00017: val_rmse did not improve from 2.17994\n",
      "Epoch 18/100\n",
      "216000/216000 [==============================] - 1s 4us/step - loss: 0.0492 - rmse: 2.0852 - val_loss: 1.4703 - val_rmse: 2.1825\n",
      "\n",
      "Epoch 00018: val_rmse did not improve from 2.17994\n",
      "Epoch 19/100\n",
      "216000/216000 [==============================] - 1s 4us/step - loss: 0.0412 - rmse: 2.0847 - val_loss: 1.4782 - val_rmse: 2.1832\n",
      "\n",
      "Epoch 00019: val_rmse did not improve from 2.17994\n",
      "Epoch 20/100\n",
      "216000/216000 [==============================] - 1s 4us/step - loss: 0.0297 - rmse: 2.0841 - val_loss: 1.4841 - val_rmse: 2.1834\n",
      "\n",
      "Epoch 00020: val_rmse did not improve from 2.17994\n",
      "Epoch 21/100\n",
      "216000/216000 [==============================] - 1s 4us/step - loss: 0.0173 - rmse: 2.0833 - val_loss: 1.4905 - val_rmse: 2.1838\n",
      "\n",
      "Epoch 00021: val_rmse did not improve from 2.17994\n",
      "Epoch 00021: early stopping\n"
     ]
    }
   ],
   "source": [
    "# https://www.youtube.com/watch?v=BZh1ltr5Rkg\n",
    "# https://stackoverflow.com/questions/47312219/what-does-non-trainable-params-mean\n",
    "\n",
    "epochs=100\n",
    "batch_size=1000\n",
    "history = model.fit(x_train,y_train,\n",
    "                    validation_data=(x_valid,y_valid),\n",
    "                    epochs=epochs,\n",
    "                    batch_size=batch_size,\n",
    "                    verbose=1, \n",
    "                    shuffle=True,\n",
    "                    callbacks=[early_stopping,checkpointer]\n",
    "                    )"
   ]
  },
  {
   "cell_type": "code",
   "execution_count": 15,
   "metadata": {},
   "outputs": [
    {
     "data": {
      "image/png": "[encoded data removed]",
      "text/plain": [
       "<matplotlib.figure.Figure at 0x7fe6ac7d10b8>"
      ]
     },
     "metadata": {},
     "output_type": "display_data"
    }
   ],
   "source": [
    "def plot_history(history):\n",
    "    plt.figure(figsize=(3,2), dpi=150)\n",
    "    plt.plot(history.history['rmse'])\n",
    "    plt.plot(history.history['val_rmse'])\n",
    "    plt.title('Dense', fontsize=10)\n",
    "    plt.ylabel('RMSE', fontsize=8)\n",
    "    plt.xlabel('epoch', fontsize=8)\n",
    "    plt.legend(['train', 'val'], loc='upper right')\n",
    "    plt.show()\n",
    "\n",
    "plot_history(history)"
   ]
  },
  {
   "cell_type": "markdown",
   "metadata": {},
   "source": [
    "# load best model"
   ]
  },
  {
   "cell_type": "code",
   "execution_count": 16,
   "metadata": {},
   "outputs": [
    {
     "data": {
      "text/plain": [
       "'./dataset/weights/groups_4-laten_40'"
      ]
     },
     "execution_count": 16,
     "metadata": {},
     "output_type": "execute_result"
    }
   ],
   "source": [
    "dir_path"
   ]
  },
  {
   "cell_type": "code",
   "execution_count": 17,
   "metadata": {
    "scrolled": true
   },
   "outputs": [
    {
     "name": "stdout",
     "output_type": "stream",
     "text": [
      "./dataset/weights/groups_4-laten_40/recommender-epoch_12-val_rmse_2.180.hdf5\n",
      "__________________________________________________________________________________________________\n",
      "Layer (type)                    Output Shape         Param #     Connected to                     \n",
      "==================================================================================================\n",
      "input_1 (InputLayer)            (None, 1)            0                                            \n",
      "__________________________________________________________________________________________________\n",
      "input_2 (InputLayer)            (None, 1)            0                                            \n",
      "__________________________________________________________________________________________________\n",
      "embedding_1 (Embedding)         (None, 1, 40)        1600000     input_1[0][0]                    \n",
      "__________________________________________________________________________________________________\n",
      "embedding_2 (Embedding)         (None, 1, 40)        240         input_2[0][0]                    \n",
      "__________________________________________________________________________________________________\n",
      "flatten_1 (Flatten)             (None, 40)           0           embedding_1[0][0]                \n",
      "__________________________________________________________________________________________________\n",
      "flatten_2 (Flatten)             (None, 40)           0           embedding_2[0][0]                \n",
      "__________________________________________________________________________________________________\n",
      "dot_1 (Dot)                     (None, 1)            0           flatten_1[0][0]                  \n",
      "                                                                 flatten_2[0][0]                  \n",
      "==================================================================================================\n",
      "Total params: 1,600,240\n",
      "Trainable params: 1,600,240\n",
      "Non-trainable params: 0\n",
      "__________________________________________________________________________________________________\n"
     ]
    }
   ],
   "source": [
    "weights=glob(os.path.join(dir_path,'*')) \n",
    "weights.sort()\n",
    "best_weight=weights[-1]\n",
    "print(best_weight)\n",
    "best_nn=load_model(best_weight)\n",
    "best_nn.summary()"
   ]
  },
  {
   "cell_type": "code",
   "execution_count": 18,
   "metadata": {},
   "outputs": [
    {
     "data": {
      "text/plain": [
       "[<keras.engine.input_layer.InputLayer at 0x7fe6c0ca4da0>,\n",
       " <keras.engine.input_layer.InputLayer at 0x7fe6ac760c18>,\n",
       " <keras.layers.embeddings.Embedding at 0x7fe6ac760be0>,\n",
       " <keras.layers.embeddings.Embedding at 0x7fe6ac760a90>,\n",
       " <keras.layers.core.Flatten at 0x7fe6ac760550>,\n",
       " <keras.layers.core.Flatten at 0x7fe6ac7609b0>,\n",
       " <keras.layers.merge.Dot at 0x7fe6ac7947f0>]"
      ]
     },
     "execution_count": 18,
     "metadata": {},
     "output_type": "execute_result"
    }
   ],
   "source": [
    "best_nn.layers"
   ]
  },
  {
   "cell_type": "code",
   "execution_count": 19,
   "metadata": {},
   "outputs": [
    {
     "name": "stdout",
     "output_type": "stream",
     "text": [
      "_________________________________________________________________\n",
      "Layer (type)                 Output Shape              Param #   \n",
      "=================================================================\n",
      "input_1 (InputLayer)         (None, 1)                 0         \n",
      "_________________________________________________________________\n",
      "embedding_1 (Embedding)      (None, 1, 40)             1600000   \n",
      "_________________________________________________________________\n",
      "flatten_1 (Flatten)          (None, 40)                0         \n",
      "=================================================================\n",
      "Total params: 1,600,000\n",
      "Trainable params: 1,600,000\n",
      "Non-trainable params: 0\n",
      "_________________________________________________________________\n"
     ]
    }
   ],
   "source": [
    "input_ = best_nn.layers[0].input\n",
    "x = best_nn.layers[2](input_)\n",
    "output_ = best_nn.layers[4](x)\n",
    "model_user_embedding = Model(input_, output_)\n",
    "model_user_embedding.summary()"
   ]
  },
  {
   "cell_type": "code",
   "execution_count": 20,
   "metadata": {
    "scrolled": true
   },
   "outputs": [
    {
     "name": "stdout",
     "output_type": "stream",
     "text": [
      "(2, 40)\n"
     ]
    },
    {
     "data": {
      "text/plain": [
       "array([[ 0.05789721,  0.03858735, -0.17988393, -0.20333149, -0.05017289,\n",
       "         0.09816994, -0.02527293, -0.04341677, -0.04605047,  0.18487895,\n",
       "        -0.09538747, -0.01281048,  0.06159188, -0.01853834, -0.07849555,\n",
       "        -0.00771312, -0.17528148,  0.02948121,  0.13106492, -0.05774293,\n",
       "         0.04160971, -0.07258484, -0.18494968,  0.12550846,  0.04770511,\n",
       "         0.0208334 ,  0.05024992, -0.15522012, -0.06479459,  0.08631358,\n",
       "         0.02782904,  0.02089606, -0.20747957, -0.03913518,  0.13145831,\n",
       "        -0.06099104, -0.05306514, -0.0114426 ,  0.00748177, -0.06192294],\n",
       "       [ 0.        ,  0.        ,  0.        ,  0.        ,  0.        ,\n",
       "         0.        ,  0.        ,  0.        ,  0.        ,  0.        ,\n",
       "         0.        ,  0.        ,  0.        ,  0.        ,  0.        ,\n",
       "         0.        ,  0.        ,  0.        ,  0.        ,  0.        ,\n",
       "         0.        ,  0.        ,  0.        ,  0.        ,  0.        ,\n",
       "         0.        ,  0.        ,  0.        ,  0.        ,  0.        ,\n",
       "         0.        ,  0.        ,  0.        ,  0.        ,  0.        ,\n",
       "         0.        ,  0.        ,  0.        ,  0.        ,  0.        ]],\n",
       "      dtype=float32)"
      ]
     },
     "execution_count": 20,
     "metadata": {},
     "output_type": "execute_result"
    }
   ],
   "source": [
    "user_vectors=model_user_embedding.predict([40000-1,40000-0])\n",
    "print(user_vectors.shape)\n",
    "user_vectors"
   ]
  },
  {
   "cell_type": "code",
   "execution_count": 21,
   "metadata": {},
   "outputs": [
    {
     "name": "stdout",
     "output_type": "stream",
     "text": [
      "(40000, 40)\n"
     ]
    }
   ],
   "source": [
    "user_vectors=model_user_embedding.predict(list(range(40000)))\n",
    "print(user_vectors.shape)"
   ]
  },
  {
   "cell_type": "markdown",
   "metadata": {},
   "source": [
    "# tsne"
   ]
  },
  {
   "cell_type": "code",
   "execution_count": 22,
   "metadata": {},
   "outputs": [
    {
     "data": {
      "text/plain": [
       "(80, 40)"
      ]
     },
     "execution_count": 22,
     "metadata": {},
     "output_type": "execute_result"
    }
   ],
   "source": [
    "select_index=(sample(range(0, 10000), 20)+\n",
    "              sample(range(10000, 20000), 20)+\n",
    "              sample(range(20000, 30000), 20)+\n",
    "              sample(range(30000, 40000), 20))\n",
    "\n",
    "select_user_vectors=user_vectors[select_index,...]\n",
    "select_user_vectors.shape"
   ]
  },
  {
   "cell_type": "code",
   "execution_count": 23,
   "metadata": {},
   "outputs": [
    {
     "data": {
      "text/plain": [
       "(80, 2)"
      ]
     },
     "execution_count": 23,
     "metadata": {},
     "output_type": "execute_result"
    }
   ],
   "source": [
    "model_tsne = TSNE(n_components=2, random_state=0, perplexity=40)\n",
    "select_user_vectors_tsne = model_tsne.fit_transform(select_user_vectors)\n",
    "select_user_vectors_tsne.shape"
   ]
  },
  {
   "cell_type": "markdown",
   "metadata": {},
   "source": [
    "# visualize"
   ]
  },
  {
   "cell_type": "code",
   "execution_count": 24,
   "metadata": {
    "scrolled": true
   },
   "outputs": [
    {
     "data": {
      "text/html": [
       "<div>\n",
       "<style scoped>\n",
       "    .dataframe tbody tr th:only-of-type {\n",
       "        vertical-align: middle;\n",
       "    }\n",
       "\n",
       "    .dataframe tbody tr th {\n",
       "        vertical-align: top;\n",
       "    }\n",
       "\n",
       "    .dataframe thead th {\n",
       "        text-align: right;\n",
       "    }\n",
       "</style>\n",
       "<table border=\"1\" class=\"dataframe\">\n",
       "  <thead>\n",
       "    <tr style=\"text-align: right;\">\n",
       "      <th></th>\n",
       "      <th>user_id</th>\n",
       "      <th>embedding_vec</th>\n",
       "      <th>tsne_vec</th>\n",
       "    </tr>\n",
       "  </thead>\n",
       "  <tbody>\n",
       "    <tr>\n",
       "      <th>75</th>\n",
       "      <td>37812</td>\n",
       "      <td>[-0.038467772, 0.11179963, -0.18323167, -0.133...</td>\n",
       "      <td>[-0.9488092, 4.546231]</td>\n",
       "    </tr>\n",
       "    <tr>\n",
       "      <th>76</th>\n",
       "      <td>33479</td>\n",
       "      <td>[-0.068855405, 0.08522018, -0.2812978, -0.2725...</td>\n",
       "      <td>[-0.70253724, 4.076623]</td>\n",
       "    </tr>\n",
       "    <tr>\n",
       "      <th>77</th>\n",
       "      <td>36580</td>\n",
       "      <td>[-0.012927695, 0.07482841, -0.19999874, -0.264...</td>\n",
       "      <td>[-0.8192465, 4.358588]</td>\n",
       "    </tr>\n",
       "    <tr>\n",
       "      <th>78</th>\n",
       "      <td>30774</td>\n",
       "      <td>[0.006332629, 0.13901733, -0.16906558, -0.2766...</td>\n",
       "      <td>[-1.0834548, 4.2043285]</td>\n",
       "    </tr>\n",
       "    <tr>\n",
       "      <th>79</th>\n",
       "      <td>35991</td>\n",
       "      <td>[-0.01464175, 0.11217899, -0.26691768, -0.2462...</td>\n",
       "      <td>[-0.7999142, 4.1597204]</td>\n",
       "    </tr>\n",
       "  </tbody>\n",
       "</table>\n",
       "</div>"
      ],
      "text/plain": [
       "    user_id                                      embedding_vec  \\\n",
       "75    37812  [-0.038467772, 0.11179963, -0.18323167, -0.133...   \n",
       "76    33479  [-0.068855405, 0.08522018, -0.2812978, -0.2725...   \n",
       "77    36580  [-0.012927695, 0.07482841, -0.19999874, -0.264...   \n",
       "78    30774  [0.006332629, 0.13901733, -0.16906558, -0.2766...   \n",
       "79    35991  [-0.01464175, 0.11217899, -0.26691768, -0.2462...   \n",
       "\n",
       "                   tsne_vec  \n",
       "75   [-0.9488092, 4.546231]  \n",
       "76  [-0.70253724, 4.076623]  \n",
       "77   [-0.8192465, 4.358588]  \n",
       "78  [-1.0834548, 4.2043285]  \n",
       "79  [-0.7999142, 4.1597204]  "
      ]
     },
     "execution_count": 24,
     "metadata": {},
     "output_type": "execute_result"
    }
   ],
   "source": [
    "data_vis = pd.DataFrame({'user_id':select_index,\n",
    "                         'embedding_vec':list(select_user_vectors),\n",
    "                         'tsne_vec':list(select_user_vectors_tsne),})\n",
    "data_vis.tail()"
   ]
  },
  {
   "cell_type": "code",
   "execution_count": 25,
   "metadata": {},
   "outputs": [],
   "source": [
    "word = select_index\n",
    "x = select_user_vectors_tsne[:,0]\n",
    "y = select_user_vectors_tsne[:,1]\n"
   ]
  },
  {
   "cell_type": "code",
   "execution_count": 27,
   "metadata": {
    "scrolled": true
   },
   "outputs": [
    {
     "data": {
      "image/png": "[encoded data removed]",
      "text/plain": [
       "<matplotlib.figure.Figure at 0x7fe6ac35d278>"
      ]
     },
     "metadata": {},
     "output_type": "display_data"
    }
   ],
   "source": [
    "x_y_word = []\n",
    "plt.figure(figsize=(16,9),dpi=100)\n",
    "plt.rcParams['axes.unicode_minus'] = False \n",
    "\n",
    "plt.scatter(x,y)\n",
    "\n",
    "for a, b, s in zip(x, y, word):\n",
    "    x_y_word.append(plt.text(a, b, s, fontsize=16))\n",
    "    \n",
    "adjust_text(x_y_word, arrowprops=dict(arrowstyle=\"->\", color='r', lw=0.5))\n",
    "\n",
    "plt.show()"
   ]
  }
 ],
 "metadata": {
  "kernelspec": {
   "display_name": "Python 3",
   "language": "python",
   "name": "python3"
  },
  "language_info": {
   "codemirror_mode": {
    "name": "ipython",
    "version": 3
   },
   "file_extension": ".py",
   "mimetype": "text/x-python",
   "name": "python",
   "nbconvert_exporter": "python",
   "pygments_lexer": "ipython3",
   "version": "3.6.5"
  }
 },
 "nbformat": 4,
 "nbformat_minor": 2
}
