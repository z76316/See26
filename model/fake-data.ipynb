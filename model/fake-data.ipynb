{
 "cells": [
  {
   "cell_type": "code",
   "execution_count": 170,
   "metadata": {
    "collapsed": true
   },
   "outputs": [],
   "source": [
    "from keras.layers import Input, Dense, Embedding, Flatten, dot, BatchNormalization\n",
    "from keras.models import Model, load_model \n",
    "from keras.utils import get_custom_objects\n",
    "import keras.backend as K\n",
    "from keras.callbacks import EarlyStopping,ModelCheckpoint\n",
    "\n",
    "from sklearn.manifold import TSNE\n",
    "from sklearn.model_selection import train_test_split\n",
    "from IPython.display import display\n",
    "import pandas as pd\n",
    "import numpy as np\n",
    "import os\n",
    "from random import shuffle, randint, sample\n",
    "from IPython.display import display\n",
    "from sklearn.utils import shuffle\n",
    "from sklearn import preprocessing\n",
    "import matplotlib.pyplot as plt\n",
    "from adjustText import adjust_text\n"
   ]
  },
  {
   "cell_type": "code",
   "execution_count": 46,
   "metadata": {},
   "outputs": [
    {
     "data": {
      "text/plain": [
       "0"
      ]
     },
     "execution_count": 46,
     "metadata": {},
     "output_type": "execute_result"
    }
   ],
   "source": [
    "randint(0,2)"
   ]
  },
  {
   "cell_type": "markdown",
   "metadata": {},
   "source": [
    "# generate data"
   ]
  },
  {
   "cell_type": "code",
   "execution_count": 3,
   "metadata": {},
   "outputs": [
    {
     "data": {
      "text/html": [
       "<div>\n",
       "<style scoped>\n",
       "    .dataframe tbody tr th:only-of-type {\n",
       "        vertical-align: middle;\n",
       "    }\n",
       "\n",
       "    .dataframe tbody tr th {\n",
       "        vertical-align: top;\n",
       "    }\n",
       "\n",
       "    .dataframe thead th {\n",
       "        text-align: right;\n",
       "    }\n",
       "</style>\n",
       "<table border=\"1\" class=\"dataframe\">\n",
       "  <thead>\n",
       "    <tr style=\"text-align: right;\">\n",
       "      <th></th>\n",
       "      <th>movie_id</th>\n",
       "    </tr>\n",
       "  </thead>\n",
       "  <tbody>\n",
       "    <tr>\n",
       "      <th>0</th>\n",
       "      <td>0</td>\n",
       "    </tr>\n",
       "    <tr>\n",
       "      <th>1</th>\n",
       "      <td>1</td>\n",
       "    </tr>\n",
       "    <tr>\n",
       "      <th>2</th>\n",
       "      <td>2</td>\n",
       "    </tr>\n",
       "    <tr>\n",
       "      <th>3</th>\n",
       "      <td>3</td>\n",
       "    </tr>\n",
       "    <tr>\n",
       "      <th>4</th>\n",
       "      <td>4</td>\n",
       "    </tr>\n",
       "    <tr>\n",
       "      <th>5</th>\n",
       "      <td>5</td>\n",
       "    </tr>\n",
       "  </tbody>\n",
       "</table>\n",
       "</div>"
      ],
      "text/plain": [
       "   movie_id\n",
       "0         0\n",
       "1         1\n",
       "2         2\n",
       "3         3\n",
       "4         4\n",
       "5         5"
      ]
     },
     "execution_count": 3,
     "metadata": {},
     "output_type": "execute_result"
    }
   ],
   "source": [
    "movies=pd.DataFrame({'movie_id':range(6)})\n",
    "movies"
   ]
  },
  {
   "cell_type": "code",
   "execution_count": 6,
   "metadata": {
    "scrolled": true
   },
   "outputs": [
    {
     "data": {
      "text/html": [
       "<div>\n",
       "<style scoped>\n",
       "    .dataframe tbody tr th:only-of-type {\n",
       "        vertical-align: middle;\n",
       "    }\n",
       "\n",
       "    .dataframe tbody tr th {\n",
       "        vertical-align: top;\n",
       "    }\n",
       "\n",
       "    .dataframe thead th {\n",
       "        text-align: right;\n",
       "    }\n",
       "</style>\n",
       "<table border=\"1\" class=\"dataframe\">\n",
       "  <thead>\n",
       "    <tr style=\"text-align: right;\">\n",
       "      <th></th>\n",
       "      <th>user_id</th>\n",
       "    </tr>\n",
       "  </thead>\n",
       "  <tbody>\n",
       "    <tr>\n",
       "      <th>39995</th>\n",
       "      <td>39995</td>\n",
       "    </tr>\n",
       "    <tr>\n",
       "      <th>39996</th>\n",
       "      <td>39996</td>\n",
       "    </tr>\n",
       "    <tr>\n",
       "      <th>39997</th>\n",
       "      <td>39997</td>\n",
       "    </tr>\n",
       "    <tr>\n",
       "      <th>39998</th>\n",
       "      <td>39998</td>\n",
       "    </tr>\n",
       "    <tr>\n",
       "      <th>39999</th>\n",
       "      <td>39999</td>\n",
       "    </tr>\n",
       "  </tbody>\n",
       "</table>\n",
       "</div>"
      ],
      "text/plain": [
       "       user_id\n",
       "39995    39995\n",
       "39996    39996\n",
       "39997    39997\n",
       "39998    39998\n",
       "39999    39999"
      ]
     },
     "execution_count": 6,
     "metadata": {},
     "output_type": "execute_result"
    }
   ],
   "source": [
    "users=pd.DataFrame({'user_id':range(40000)})\n",
    "users.tail()"
   ]
  },
  {
   "cell_type": "code",
   "execution_count": 11,
   "metadata": {},
   "outputs": [
    {
     "data": {
      "text/html": [
       "<div>\n",
       "<style scoped>\n",
       "    .dataframe tbody tr th:only-of-type {\n",
       "        vertical-align: middle;\n",
       "    }\n",
       "\n",
       "    .dataframe tbody tr th {\n",
       "        vertical-align: top;\n",
       "    }\n",
       "\n",
       "    .dataframe thead th {\n",
       "        text-align: right;\n",
       "    }\n",
       "</style>\n",
       "<table border=\"1\" class=\"dataframe\">\n",
       "  <thead>\n",
       "    <tr style=\"text-align: right;\">\n",
       "      <th></th>\n",
       "      <th>a</th>\n",
       "      <th>b</th>\n",
       "      <th>c</th>\n",
       "    </tr>\n",
       "  </thead>\n",
       "  <tbody>\n",
       "    <tr>\n",
       "      <th>0</th>\n",
       "      <td>1</td>\n",
       "      <td>2</td>\n",
       "      <td>3</td>\n",
       "    </tr>\n",
       "    <tr>\n",
       "      <th>1</th>\n",
       "      <td>4</td>\n",
       "      <td>5</td>\n",
       "      <td>6</td>\n",
       "    </tr>\n",
       "  </tbody>\n",
       "</table>\n",
       "</div>"
      ],
      "text/plain": [
       "   a  b  c\n",
       "0  1  2  3\n",
       "1  4  5  6"
      ]
     },
     "execution_count": 11,
     "metadata": {},
     "output_type": "execute_result"
    }
   ],
   "source": [
    "pd.DataFrame([[1,2,3],[4,5,6]],columns=['a','b','c'])"
   ]
  },
  {
   "cell_type": "code",
   "execution_count": 201,
   "metadata": {
    "scrolled": true
   },
   "outputs": [
    {
     "data": {
      "text/html": [
       "<div>\n",
       "<style scoped>\n",
       "    .dataframe tbody tr th:only-of-type {\n",
       "        vertical-align: middle;\n",
       "    }\n",
       "\n",
       "    .dataframe tbody tr th {\n",
       "        vertical-align: top;\n",
       "    }\n",
       "\n",
       "    .dataframe thead th {\n",
       "        text-align: right;\n",
       "    }\n",
       "</style>\n",
       "<table border=\"1\" class=\"dataframe\">\n",
       "  <thead>\n",
       "    <tr style=\"text-align: right;\">\n",
       "      <th></th>\n",
       "      <th>user_id</th>\n",
       "      <th>movie_id</th>\n",
       "      <th>rating</th>\n",
       "    </tr>\n",
       "  </thead>\n",
       "  <tbody>\n",
       "    <tr>\n",
       "      <th>239990</th>\n",
       "      <td>39998</td>\n",
       "      <td>2</td>\n",
       "      <td>-3</td>\n",
       "    </tr>\n",
       "    <tr>\n",
       "      <th>239991</th>\n",
       "      <td>39998</td>\n",
       "      <td>3</td>\n",
       "      <td>-3</td>\n",
       "    </tr>\n",
       "    <tr>\n",
       "      <th>239992</th>\n",
       "      <td>39998</td>\n",
       "      <td>4</td>\n",
       "      <td>-3</td>\n",
       "    </tr>\n",
       "    <tr>\n",
       "      <th>239993</th>\n",
       "      <td>39998</td>\n",
       "      <td>5</td>\n",
       "      <td>3</td>\n",
       "    </tr>\n",
       "    <tr>\n",
       "      <th>239994</th>\n",
       "      <td>39999</td>\n",
       "      <td>0</td>\n",
       "      <td>3</td>\n",
       "    </tr>\n",
       "    <tr>\n",
       "      <th>239995</th>\n",
       "      <td>39999</td>\n",
       "      <td>1</td>\n",
       "      <td>-2</td>\n",
       "    </tr>\n",
       "    <tr>\n",
       "      <th>239996</th>\n",
       "      <td>39999</td>\n",
       "      <td>2</td>\n",
       "      <td>-3</td>\n",
       "    </tr>\n",
       "    <tr>\n",
       "      <th>239997</th>\n",
       "      <td>39999</td>\n",
       "      <td>3</td>\n",
       "      <td>-3</td>\n",
       "    </tr>\n",
       "    <tr>\n",
       "      <th>239998</th>\n",
       "      <td>39999</td>\n",
       "      <td>4</td>\n",
       "      <td>-3</td>\n",
       "    </tr>\n",
       "    <tr>\n",
       "      <th>239999</th>\n",
       "      <td>39999</td>\n",
       "      <td>5</td>\n",
       "      <td>2</td>\n",
       "    </tr>\n",
       "  </tbody>\n",
       "</table>\n",
       "</div>"
      ],
      "text/plain": [
       "        user_id  movie_id  rating\n",
       "239990    39998         2      -3\n",
       "239991    39998         3      -3\n",
       "239992    39998         4      -3\n",
       "239993    39998         5       3\n",
       "239994    39999         0       3\n",
       "239995    39999         1      -2\n",
       "239996    39999         2      -3\n",
       "239997    39999         3      -3\n",
       "239998    39999         4      -3\n",
       "239999    39999         5       2"
      ]
     },
     "execution_count": 201,
     "metadata": {},
     "output_type": "execute_result"
    }
   ],
   "source": [
    "# 0~10000, 0/1 4~5, 2/3 1~2, 4/5 1~2\n",
    "# 10000~20000, 2/3 4~5, 0/1 1~2, 4/5 1~2\n",
    "# 20000~30000, 4/5 4~5, 2/3 1~2, 0/1 1~2\n",
    "# 30000~40000, 0/5 4~5, 1/2 1~2, 3/4 1~2\n",
    "\n",
    "dummy=[]\n",
    "\n",
    "for user in range(40000):\n",
    "    for movie in range(6):\n",
    "        if user in range(10000):\n",
    "            if movie in [0,1]:\n",
    "                dummy.append([user,movie,randint(2,3)])\n",
    "            elif movie in [2,3]:\n",
    "                dummy.append([user,movie,randint(-3,-2)])\n",
    "            elif movie in [4,5]:\n",
    "                dummy.append([user,movie,randint(-3,-2)])\n",
    "       \n",
    "        elif user in range(10000,20000):\n",
    "            if movie in [2,3]:\n",
    "                dummy.append([user,movie,randint(2,3)])\n",
    "            elif movie in [0,1]:\n",
    "                dummy.append([user,movie,randint(-3,-2)])\n",
    "            elif movie in [4,5]:\n",
    "                dummy.append([user,movie,randint(-3,-2)])\n",
    "        \n",
    "        elif user in range(20000,30000):\n",
    "            if movie in [4,5]:\n",
    "                dummy.append([user,movie,randint(2,3)])\n",
    "            elif movie in [2,3]:\n",
    "                dummy.append([user,movie,randint(-3,-2)])\n",
    "            elif movie in [0,1]:\n",
    "                dummy.append([user,movie,randint(-3,-2)])\n",
    "        \n",
    "        elif user in range(30000,40000):\n",
    "            if movie in [0,5]:\n",
    "                dummy.append([user,movie,randint(2,3)])\n",
    "            elif movie in [2,3]:\n",
    "                dummy.append([user,movie,randint(-3,-2)])\n",
    "            elif movie in [4,1]:\n",
    "                dummy.append([user,movie,randint(-3,-2)])\n",
    "\n",
    "data=pd.DataFrame(dummy,columns=['user_id','movie_id','rating'])\n",
    "data.tail(10)"
   ]
  },
  {
   "cell_type": "code",
   "execution_count": 205,
   "metadata": {
    "scrolled": true
   },
   "outputs": [
    {
     "data": {
      "text/html": [
       "<div>\n",
       "<style scoped>\n",
       "    .dataframe tbody tr th:only-of-type {\n",
       "        vertical-align: middle;\n",
       "    }\n",
       "\n",
       "    .dataframe tbody tr th {\n",
       "        vertical-align: top;\n",
       "    }\n",
       "\n",
       "    .dataframe thead th {\n",
       "        text-align: right;\n",
       "    }\n",
       "</style>\n",
       "<table border=\"1\" class=\"dataframe\">\n",
       "  <thead>\n",
       "    <tr style=\"text-align: right;\">\n",
       "      <th></th>\n",
       "      <th>user_id</th>\n",
       "      <th>movie_id</th>\n",
       "      <th>rating</th>\n",
       "    </tr>\n",
       "  </thead>\n",
       "  <tbody>\n",
       "    <tr>\n",
       "      <th>66672</th>\n",
       "      <td>11112</td>\n",
       "      <td>0</td>\n",
       "      <td>-3</td>\n",
       "    </tr>\n",
       "    <tr>\n",
       "      <th>66673</th>\n",
       "      <td>11112</td>\n",
       "      <td>1</td>\n",
       "      <td>-2</td>\n",
       "    </tr>\n",
       "    <tr>\n",
       "      <th>66674</th>\n",
       "      <td>11112</td>\n",
       "      <td>2</td>\n",
       "      <td>2</td>\n",
       "    </tr>\n",
       "    <tr>\n",
       "      <th>66675</th>\n",
       "      <td>11112</td>\n",
       "      <td>3</td>\n",
       "      <td>3</td>\n",
       "    </tr>\n",
       "    <tr>\n",
       "      <th>66676</th>\n",
       "      <td>11112</td>\n",
       "      <td>4</td>\n",
       "      <td>-3</td>\n",
       "    </tr>\n",
       "    <tr>\n",
       "      <th>66677</th>\n",
       "      <td>11112</td>\n",
       "      <td>5</td>\n",
       "      <td>-3</td>\n",
       "    </tr>\n",
       "  </tbody>\n",
       "</table>\n",
       "</div>"
      ],
      "text/plain": [
       "       user_id  movie_id  rating\n",
       "66672    11112         0      -3\n",
       "66673    11112         1      -2\n",
       "66674    11112         2       2\n",
       "66675    11112         3       3\n",
       "66676    11112         4      -3\n",
       "66677    11112         5      -3"
      ]
     },
     "execution_count": 205,
     "metadata": {},
     "output_type": "execute_result"
    }
   ],
   "source": [
    "data[data.user_id==11112]"
   ]
  },
  {
   "cell_type": "code",
   "execution_count": 206,
   "metadata": {
    "collapsed": true
   },
   "outputs": [],
   "source": [
    "data_train, data_test, _, _ = train_test_split(data, data, test_size=0.1, random_state=42)"
   ]
  },
  {
   "cell_type": "code",
   "execution_count": 207,
   "metadata": {
    "collapsed": true
   },
   "outputs": [],
   "source": [
    "x_train=[data_train.user_id.values,\n",
    "         data_train.movie_id.values]\n",
    "y_train=[data_train.rating.values]\n",
    "\n",
    "x_valid=[data_test.user_id.values,\n",
    "         data_test.movie_id.values]\n",
    "y_valid=[data_test.rating.values]\n",
    "\n"
   ]
  },
  {
   "cell_type": "code",
   "execution_count": null,
   "metadata": {
    "collapsed": true
   },
   "outputs": [],
   "source": []
  },
  {
   "cell_type": "code",
   "execution_count": null,
   "metadata": {
    "collapsed": true
   },
   "outputs": [],
   "source": []
  },
  {
   "cell_type": "markdown",
   "metadata": {},
   "source": [
    "# model"
   ]
  },
  {
   "cell_type": "code",
   "execution_count": 208,
   "metadata": {
    "collapsed": true
   },
   "outputs": [],
   "source": [
    "def rmse(y_true, y_pred, bound=2):\n",
    "    max_rating=bound*2\n",
    "    y_pred = K.clip(y_pred, 0.0, max_rating)\n",
    "    return K.sqrt(K.mean(K.pow(y_true - y_pred, 2)))\n",
    "\n",
    "get_custom_objects().update({\"rmse\": rmse})\n"
   ]
  },
  {
   "cell_type": "code",
   "execution_count": 209,
   "metadata": {},
   "outputs": [
    {
     "name": "stdout",
     "output_type": "stream",
     "text": [
      "__________________________________________________________________________________________________\n",
      "Layer (type)                    Output Shape         Param #     Connected to                     \n",
      "==================================================================================================\n",
      "input_5 (InputLayer)            (None, 1)            0                                            \n",
      "__________________________________________________________________________________________________\n",
      "input_6 (InputLayer)            (None, 1)            0                                            \n",
      "__________________________________________________________________________________________________\n",
      "embedding_5 (Embedding)         (None, 1, 30)        1200000     input_5[0][0]                    \n",
      "__________________________________________________________________________________________________\n",
      "embedding_6 (Embedding)         (None, 1, 30)        180         input_6[0][0]                    \n",
      "__________________________________________________________________________________________________\n",
      "flatten_5 (Flatten)             (None, 30)           0           embedding_5[0][0]                \n",
      "__________________________________________________________________________________________________\n",
      "flatten_6 (Flatten)             (None, 30)           0           embedding_6[0][0]                \n",
      "__________________________________________________________________________________________________\n",
      "dot_3 (Dot)                     (None, 1)            0           flatten_5[0][0]                  \n",
      "                                                                 flatten_6[0][0]                  \n",
      "==================================================================================================\n",
      "Total params: 1,200,180\n",
      "Trainable params: 1,200,180\n",
      "Non-trainable params: 0\n",
      "__________________________________________________________________________________________________\n"
     ]
    }
   ],
   "source": [
    "input_length=1\n",
    "n_movies=6\n",
    "n_users=40000\n",
    "latent_dim=30\n",
    "\n",
    "user_input = Input(shape=(input_length,))\n",
    "movie_input = Input(shape=(input_length,))\n",
    "\n",
    "user_vecter = Embedding(input_dim=n_users, output_dim=latent_dim, input_length=input_length, embeddings_initializer=\"random_normal\")(user_input)\n",
    "user_vecter = Flatten()(user_vecter)\n",
    "\n",
    "movie_vecter = Embedding(n_movies, latent_dim, embeddings_initializer=\"random_normal\")(movie_input)\n",
    "movie_vecter = Flatten()(movie_vecter)\n",
    "\n",
    "\n",
    "rating_predict = dot([user_vecter,movie_vecter],axes=1)\n",
    "\n",
    "model = Model([user_input,movie_input],rating_predict)\n",
    "\n",
    "model.compile(loss=\"mse\", optimizer=\"adam\", metrics=[rmse])\n",
    "\n",
    "model.summary()\n"
   ]
  },
  {
   "cell_type": "code",
   "execution_count": 210,
   "metadata": {
    "scrolled": true
   },
   "outputs": [
    {
     "name": "stdout",
     "output_type": "stream",
     "text": [
      "Train on 216000 samples, validate on 24000 samples\n",
      "Epoch 1/100\n",
      "216000/216000 [==============================] - 1s 6us/step - loss: 6.4708 - rmse: 2.5492 - val_loss: 6.3479 - val_rmse: 2.5368\n",
      "\n",
      "Epoch 00001: val_rmse improved from inf to 2.53675, saving model to ./dataset/weights/recommender-epoch_01-val_rmse_2.537.hdf5\n",
      "Epoch 2/100\n",
      "216000/216000 [==============================] - 1s 3us/step - loss: 5.7915 - rmse: 2.4919 - val_loss: 5.4097 - val_rmse: 2.4596\n",
      "\n",
      "Epoch 00002: val_rmse improved from 2.53675 to 2.45956, saving model to ./dataset/weights/recommender-epoch_02-val_rmse_2.460.hdf5\n",
      "Epoch 3/100\n",
      "216000/216000 [==============================] - 1s 4us/step - loss: 3.9323 - rmse: 2.3226 - val_loss: 4.1346 - val_rmse: 2.3550\n",
      "\n",
      "Epoch 00003: val_rmse improved from 2.45956 to 2.35496, saving model to ./dataset/weights/recommender-epoch_03-val_rmse_2.355.hdf5\n",
      "Epoch 4/100\n",
      "216000/216000 [==============================] - 1s 4us/step - loss: 2.3363 - rmse: 2.1799 - val_loss: 3.3915 - val_rmse: 2.3016\n",
      "\n",
      "Epoch 00004: val_rmse improved from 2.35496 to 2.30159, saving model to ./dataset/weights/recommender-epoch_04-val_rmse_2.302.hdf5\n",
      "Epoch 5/100\n",
      "216000/216000 [==============================] - 1s 3us/step - loss: 1.5842 - rmse: 2.1303 - val_loss: 3.0462 - val_rmse: 2.2800\n",
      "\n",
      "Epoch 00005: val_rmse improved from 2.30159 to 2.28004, saving model to ./dataset/weights/recommender-epoch_05-val_rmse_2.280.hdf5\n",
      "Epoch 6/100\n",
      "216000/216000 [==============================] - 1s 3us/step - loss: 1.1519 - rmse: 2.1182 - val_loss: 2.7654 - val_rmse: 2.2490\n",
      "\n",
      "Epoch 00006: val_rmse improved from 2.28004 to 2.24897, saving model to ./dataset/weights/recommender-epoch_06-val_rmse_2.249.hdf5\n",
      "Epoch 7/100\n",
      "216000/216000 [==============================] - 1s 4us/step - loss: 0.7613 - rmse: 2.1116 - val_loss: 2.4549 - val_rmse: 2.2118\n",
      "\n",
      "Epoch 00007: val_rmse improved from 2.24897 to 2.21178, saving model to ./dataset/weights/recommender-epoch_07-val_rmse_2.212.hdf5\n",
      "Epoch 8/100\n",
      "216000/216000 [==============================] - 1s 3us/step - loss: 0.4399 - rmse: 2.1038 - val_loss: 2.1489 - val_rmse: 2.1875\n",
      "\n",
      "Epoch 00008: val_rmse improved from 2.21178 to 2.18749, saving model to ./dataset/weights/recommender-epoch_08-val_rmse_2.187.hdf5\n",
      "Epoch 9/100\n",
      "216000/216000 [==============================] - 1s 4us/step - loss: 0.2431 - rmse: 2.0967 - val_loss: 1.8977 - val_rmse: 2.1766\n",
      "\n",
      "Epoch 00009: val_rmse improved from 2.18749 to 2.17657, saving model to ./dataset/weights/recommender-epoch_09-val_rmse_2.177.hdf5\n",
      "Epoch 10/100\n",
      "216000/216000 [==============================] - 1s 4us/step - loss: 0.1510 - rmse: 2.0920 - val_loss: 1.7260 - val_rmse: 2.1731\n",
      "\n",
      "Epoch 00010: val_rmse improved from 2.17657 to 2.17308, saving model to ./dataset/weights/recommender-epoch_10-val_rmse_2.173.hdf5\n",
      "Epoch 11/100\n",
      "216000/216000 [==============================] - 1s 4us/step - loss: 0.1119 - rmse: 2.0896 - val_loss: 1.6211 - val_rmse: 2.1722\n",
      "\n",
      "Epoch 00011: val_rmse improved from 2.17308 to 2.17224, saving model to ./dataset/weights/recommender-epoch_11-val_rmse_2.172.hdf5\n",
      "Epoch 12/100\n",
      "216000/216000 [==============================] - 1s 4us/step - loss: 0.0928 - rmse: 2.0883 - val_loss: 1.5645 - val_rmse: 2.1725\n",
      "\n",
      "Epoch 00012: val_rmse did not improve from 2.17224\n",
      "Epoch 13/100\n",
      "216000/216000 [==============================] - 1s 4us/step - loss: 0.0808 - rmse: 2.0873 - val_loss: 1.5387 - val_rmse: 2.1730\n",
      "\n",
      "Epoch 00013: val_rmse did not improve from 2.17224\n",
      "Epoch 14/100\n",
      "216000/216000 [==============================] - 1s 3us/step - loss: 0.0723 - rmse: 2.0866 - val_loss: 1.5336 - val_rmse: 2.1737\n",
      "\n",
      "Epoch 00014: val_rmse did not improve from 2.17224\n",
      "Epoch 15/100\n",
      "216000/216000 [==============================] - 1s 4us/step - loss: 0.0659 - rmse: 2.0861 - val_loss: 1.5395 - val_rmse: 2.1743\n",
      "\n",
      "Epoch 00015: val_rmse did not improve from 2.17224\n",
      "Epoch 16/100\n",
      "216000/216000 [==============================] - 1s 4us/step - loss: 0.0616 - rmse: 2.0857 - val_loss: 1.5517 - val_rmse: 2.1749\n",
      "\n",
      "Epoch 00016: val_rmse did not improve from 2.17224\n",
      "Epoch 17/100\n",
      "216000/216000 [==============================] - 1s 3us/step - loss: 0.0587 - rmse: 2.0855 - val_loss: 1.5644 - val_rmse: 2.1752\n",
      "\n",
      "Epoch 00017: val_rmse did not improve from 2.17224\n",
      "Epoch 18/100\n",
      "216000/216000 [==============================] - 1s 4us/step - loss: 0.0572 - rmse: 2.0854 - val_loss: 1.5757 - val_rmse: 2.1756\n",
      "\n",
      "Epoch 00018: val_rmse did not improve from 2.17224\n",
      "Epoch 19/100\n",
      "216000/216000 [==============================] - 1s 4us/step - loss: 0.0559 - rmse: 2.0853 - val_loss: 1.5839 - val_rmse: 2.1758\n",
      "\n",
      "Epoch 00019: val_rmse did not improve from 2.17224\n",
      "Epoch 20/100\n",
      "216000/216000 [==============================] - 1s 3us/step - loss: 0.0547 - rmse: 2.0853 - val_loss: 1.5890 - val_rmse: 2.1759\n",
      "\n",
      "Epoch 00020: val_rmse did not improve from 2.17224\n",
      "Epoch 00020: early stopping\n"
     ]
    }
   ],
   "source": [
    "# https://www.youtube.com/watch?v=BZh1ltr5Rkg\n",
    "# https://stackoverflow.com/questions/47312219/what-does-non-trainable-params-mean\n",
    "early_stopping = EarlyStopping(monitor='val_rmse', mode='min', verbose=1, patience=10, min_delta=0.001)\n",
    "    \n",
    "file_name = 'recommender'\n",
    "file_name += '-'+\"epoch_{epoch:02d}-val_rmse_{val_rmse:.3f}.hdf5\"\n",
    "path=os.path.join('.','dataset','weights',file_name)\n",
    "checkpointer = ModelCheckpoint(filepath=path, verbose=1, monitor='val_rmse', save_best_only=True, mode='min', period=1)\n",
    "\n",
    "epochs=100\n",
    "batch_size=1000\n",
    "history = model.fit(x_train,y_train,\n",
    "                    validation_data=(x_valid,y_valid),\n",
    "                    epochs=epochs,\n",
    "                    batch_size=batch_size,\n",
    "                    verbose=1, \n",
    "                    shuffle=True,\n",
    "                    callbacks=[early_stopping,checkpointer]\n",
    "                    )"
   ]
  },
  {
   "cell_type": "code",
   "execution_count": 211,
   "metadata": {},
   "outputs": [
    {
     "data": {
      "image/png": "[encoded data removed]",
      "text/plain": [
       "<matplotlib.figure.Figure at 0x7f9c304f7128>"
      ]
     },
     "metadata": {},
     "output_type": "display_data"
    }
   ],
   "source": [
    "def plot_history(history):\n",
    "    plt.figure(figsize=(3,2), dpi=150)\n",
    "    plt.plot(history.history['rmse'])\n",
    "    plt.plot(history.history['val_rmse'])\n",
    "    plt.title('Dense', fontsize=10)\n",
    "    plt.ylabel('RMSE', fontsize=8)\n",
    "    plt.xlabel('epoch', fontsize=8)\n",
    "    plt.legend(['train', 'val'], loc='upper right')\n",
    "    plt.show()\n",
    "\n",
    "plot_history(history)"
   ]
  },
  {
   "cell_type": "markdown",
   "metadata": {},
   "source": [
    "# load best model"
   ]
  },
  {
   "cell_type": "code",
   "execution_count": 222,
   "metadata": {},
   "outputs": [
    {
     "name": "stdout",
     "output_type": "stream",
     "text": [
      "__________________________________________________________________________________________________\n",
      "Layer (type)                    Output Shape         Param #     Connected to                     \n",
      "==================================================================================================\n",
      "input_5 (InputLayer)            (None, 1)            0                                            \n",
      "__________________________________________________________________________________________________\n",
      "input_6 (InputLayer)            (None, 1)            0                                            \n",
      "__________________________________________________________________________________________________\n",
      "embedding_5 (Embedding)         (None, 1, 30)        1200000     input_5[0][0]                    \n",
      "__________________________________________________________________________________________________\n",
      "embedding_6 (Embedding)         (None, 1, 30)        180         input_6[0][0]                    \n",
      "__________________________________________________________________________________________________\n",
      "flatten_5 (Flatten)             (None, 30)           0           embedding_5[0][0]                \n",
      "__________________________________________________________________________________________________\n",
      "flatten_6 (Flatten)             (None, 30)           0           embedding_6[0][0]                \n",
      "__________________________________________________________________________________________________\n",
      "dot_3 (Dot)                     (None, 1)            0           flatten_5[0][0]                  \n",
      "                                                                 flatten_6[0][0]                  \n",
      "==================================================================================================\n",
      "Total params: 1,200,180\n",
      "Trainable params: 1,200,180\n",
      "Non-trainable params: 0\n",
      "__________________________________________________________________________________________________\n"
     ]
    }
   ],
   "source": [
    "path=os.path.join('.','dataset','weights','recommender-epoch_11-val_rmse_2.172.hdf5')\n",
    "best_nn=load_model(path)\n",
    "best_nn.summary()"
   ]
  },
  {
   "cell_type": "code",
   "execution_count": 223,
   "metadata": {},
   "outputs": [
    {
     "data": {
      "text/plain": [
       "[<keras.engine.input_layer.InputLayer at 0x7f9c304fd1d0>,\n",
       " <keras.engine.input_layer.InputLayer at 0x7f9c304fdeb8>,\n",
       " <keras.layers.embeddings.Embedding at 0x7f9c304fd9b0>,\n",
       " <keras.layers.embeddings.Embedding at 0x7f9c304fd438>,\n",
       " <keras.layers.core.Flatten at 0x7f9c304fd3c8>,\n",
       " <keras.layers.core.Flatten at 0x7f9c304fd358>,\n",
       " <keras.layers.merge.Dot at 0x7f9c304fd470>]"
      ]
     },
     "execution_count": 223,
     "metadata": {},
     "output_type": "execute_result"
    }
   ],
   "source": [
    "best_nn.layers"
   ]
  },
  {
   "cell_type": "code",
   "execution_count": 224,
   "metadata": {},
   "outputs": [
    {
     "name": "stdout",
     "output_type": "stream",
     "text": [
      "_________________________________________________________________\n",
      "Layer (type)                 Output Shape              Param #   \n",
      "=================================================================\n",
      "input_5 (InputLayer)         (None, 1)                 0         \n",
      "_________________________________________________________________\n",
      "embedding_5 (Embedding)      (None, 1, 30)             1200000   \n",
      "_________________________________________________________________\n",
      "flatten_5 (Flatten)          (None, 30)                0         \n",
      "=================================================================\n",
      "Total params: 1,200,000\n",
      "Trainable params: 1,200,000\n",
      "Non-trainable params: 0\n",
      "_________________________________________________________________\n"
     ]
    }
   ],
   "source": [
    "input_ = best_nn.layers[0].input\n",
    "x = best_nn.layers[2](input_)\n",
    "output_ = best_nn.layers[4](x)\n",
    "model_user_embedding = Model(input_, output_)\n",
    "model_user_embedding.summary()"
   ]
  },
  {
   "cell_type": "code",
   "execution_count": 225,
   "metadata": {
    "scrolled": true
   },
   "outputs": [
    {
     "name": "stdout",
     "output_type": "stream",
     "text": [
      "(2, 30)\n"
     ]
    },
    {
     "data": {
      "text/plain": [
       "array([[-0.10365929, -0.11228621,  0.20402902,  0.28201097, -0.35630617,\n",
       "        -0.02781797, -0.26417738,  0.0494066 , -0.01915489, -0.08769593,\n",
       "         0.04389039,  0.08652047, -0.06342518, -0.14308892,  0.10689261,\n",
       "         0.02507435, -0.04540818,  0.06569954, -0.03742193,  0.10352001,\n",
       "         0.09331168,  0.00453348, -0.20464954,  0.21947613,  0.00363352,\n",
       "         0.01927173,  0.02818288, -0.14583892, -0.0670023 ,  0.13546875],\n",
       "       [ 0.        ,  0.        ,  0.        ,  0.        ,  0.        ,\n",
       "         0.        ,  0.        ,  0.        ,  0.        ,  0.        ,\n",
       "         0.        ,  0.        ,  0.        ,  0.        ,  0.        ,\n",
       "         0.        ,  0.        ,  0.        ,  0.        ,  0.        ,\n",
       "         0.        ,  0.        ,  0.        ,  0.        ,  0.        ,\n",
       "         0.        ,  0.        ,  0.        ,  0.        ,  0.        ]],\n",
       "      dtype=float32)"
      ]
     },
     "execution_count": 225,
     "metadata": {},
     "output_type": "execute_result"
    }
   ],
   "source": [
    "user_vectors=model_user_embedding.predict([40000-1,40000-0])\n",
    "print(user_vectors.shape)\n",
    "user_vectors"
   ]
  },
  {
   "cell_type": "code",
   "execution_count": 226,
   "metadata": {},
   "outputs": [
    {
     "name": "stdout",
     "output_type": "stream",
     "text": [
      "(40000, 30)\n"
     ]
    }
   ],
   "source": [
    "user_vectors=model_user_embedding.predict(list(range(40000)))\n",
    "print(user_vectors.shape)"
   ]
  },
  {
   "cell_type": "markdown",
   "metadata": {},
   "source": [
    "# tsne"
   ]
  },
  {
   "cell_type": "code",
   "execution_count": 227,
   "metadata": {},
   "outputs": [
    {
     "data": {
      "text/plain": [
       "(80, 30)"
      ]
     },
     "execution_count": 227,
     "metadata": {},
     "output_type": "execute_result"
    }
   ],
   "source": [
    "select_index=(sample(range(0, 10000), 20)+\n",
    "              sample(range(10000, 20000), 20)+\n",
    "              sample(range(20000, 30000), 20)+\n",
    "              sample(range(30000, 40000), 20))\n",
    "\n",
    "select_user_vectors=user_vectors[select_index,...]\n",
    "select_user_vectors.shape"
   ]
  },
  {
   "cell_type": "code",
   "execution_count": 228,
   "metadata": {},
   "outputs": [
    {
     "data": {
      "text/plain": [
       "(80, 2)"
      ]
     },
     "execution_count": 228,
     "metadata": {},
     "output_type": "execute_result"
    }
   ],
   "source": [
    "model_tsne = TSNE(n_components=2, random_state=0, perplexity=40)\n",
    "select_user_vectors_tsne = model_tsne.fit_transform(select_user_vectors)\n",
    "select_user_vectors_tsne.shape"
   ]
  },
  {
   "cell_type": "markdown",
   "metadata": {},
   "source": [
    "# visualize"
   ]
  },
  {
   "cell_type": "code",
   "execution_count": 229,
   "metadata": {
    "scrolled": true
   },
   "outputs": [
    {
     "data": {
      "text/html": [
       "<div>\n",
       "<style scoped>\n",
       "    .dataframe tbody tr th:only-of-type {\n",
       "        vertical-align: middle;\n",
       "    }\n",
       "\n",
       "    .dataframe tbody tr th {\n",
       "        vertical-align: top;\n",
       "    }\n",
       "\n",
       "    .dataframe thead th {\n",
       "        text-align: right;\n",
       "    }\n",
       "</style>\n",
       "<table border=\"1\" class=\"dataframe\">\n",
       "  <thead>\n",
       "    <tr style=\"text-align: right;\">\n",
       "      <th></th>\n",
       "      <th>user_id</th>\n",
       "      <th>embedding_vec</th>\n",
       "      <th>tsne_vec</th>\n",
       "    </tr>\n",
       "  </thead>\n",
       "  <tbody>\n",
       "    <tr>\n",
       "      <th>75</th>\n",
       "      <td>33850</td>\n",
       "      <td>[-0.09184663, -0.07213589, 0.14808263, 0.14397...</td>\n",
       "      <td>[2.1465945, 1.49499]</td>\n",
       "    </tr>\n",
       "    <tr>\n",
       "      <th>76</th>\n",
       "      <td>32269</td>\n",
       "      <td>[-0.10751598, -0.16467974, 0.18002242, 0.25622...</td>\n",
       "      <td>[2.176352, 1.9091196]</td>\n",
       "    </tr>\n",
       "    <tr>\n",
       "      <th>77</th>\n",
       "      <td>35296</td>\n",
       "      <td>[-0.066164985, -0.18389481, 0.06360926, 0.1422...</td>\n",
       "      <td>[1.8612885, 1.718255]</td>\n",
       "    </tr>\n",
       "    <tr>\n",
       "      <th>78</th>\n",
       "      <td>35539</td>\n",
       "      <td>[-0.039381664, -0.05634538, 0.16411668, 0.1683...</td>\n",
       "      <td>[1.9604392, 2.1700249]</td>\n",
       "    </tr>\n",
       "    <tr>\n",
       "      <th>79</th>\n",
       "      <td>38432</td>\n",
       "      <td>[-0.05896752, -0.1035334, 0.123132035, 0.25508...</td>\n",
       "      <td>[1.7556013, 2.2407458]</td>\n",
       "    </tr>\n",
       "  </tbody>\n",
       "</table>\n",
       "</div>"
      ],
      "text/plain": [
       "    user_id                                      embedding_vec  \\\n",
       "75    33850  [-0.09184663, -0.07213589, 0.14808263, 0.14397...   \n",
       "76    32269  [-0.10751598, -0.16467974, 0.18002242, 0.25622...   \n",
       "77    35296  [-0.066164985, -0.18389481, 0.06360926, 0.1422...   \n",
       "78    35539  [-0.039381664, -0.05634538, 0.16411668, 0.1683...   \n",
       "79    38432  [-0.05896752, -0.1035334, 0.123132035, 0.25508...   \n",
       "\n",
       "                  tsne_vec  \n",
       "75    [2.1465945, 1.49499]  \n",
       "76   [2.176352, 1.9091196]  \n",
       "77   [1.8612885, 1.718255]  \n",
       "78  [1.9604392, 2.1700249]  \n",
       "79  [1.7556013, 2.2407458]  "
      ]
     },
     "execution_count": 229,
     "metadata": {},
     "output_type": "execute_result"
    }
   ],
   "source": [
    "data_vis = pd.DataFrame({'user_id':select_index,\n",
    "                         'embedding_vec':list(select_user_vectors),\n",
    "                         'tsne_vec':list(select_user_vectors_tsne),})\n",
    "data_vis.tail()"
   ]
  },
  {
   "cell_type": "code",
   "execution_count": 230,
   "metadata": {},
   "outputs": [],
   "source": [
    "word = select_index\n",
    "x = select_user_vectors_tsne[:,0]\n",
    "y = select_user_vectors_tsne[:,1]\n"
   ]
  },
  {
   "cell_type": "code",
   "execution_count": 231,
   "metadata": {
    "scrolled": true
   },
   "outputs": [
    {
     "name": "stdout",
     "output_type": "stream",
     "text": [
      "0\n",
      "1\n",
      "2\n",
      "3\n",
      "4\n",
      "5\n",
      "6\n",
      "7\n",
      "8\n",
      "9\n",
      "10\n",
      "11\n",
      "12\n",
      "13\n",
      "14\n",
      "15\n",
      "16\n",
      "17\n",
      "18\n",
      "19\n",
      "20\n",
      "21\n",
      "22\n",
      "23\n",
      "24\n",
      "25\n",
      "26\n",
      "27\n",
      "28\n",
      "29\n",
      "30\n",
      "31\n",
      "32\n",
      "33\n",
      "34\n",
      "35\n",
      "36\n",
      "37\n",
      "38\n",
      "39\n",
      "40\n",
      "41\n",
      "42\n",
      "43\n",
      "44\n",
      "45\n",
      "46\n",
      "47\n",
      "48\n",
      "49\n",
      "50\n",
      "51\n",
      "52\n",
      "53\n",
      "54\n",
      "55\n",
      "56\n",
      "57\n",
      "58\n",
      "59\n",
      "60\n",
      "61\n",
      "62\n",
      "63\n",
      "64\n",
      "65\n",
      "66\n",
      "67\n",
      "68\n",
      "69\n",
      "70\n",
      "71\n",
      "72\n",
      "73\n",
      "74\n",
      "75\n",
      "76\n",
      "77\n",
      "78\n",
      "79\n"
     ]
    },
    {
     "data": {
      "image/png": "[encoded data removed]",
      "text/plain": [
       "<matplotlib.figure.Figure at 0x7f9c300b9908>"
      ]
     },
     "metadata": {},
     "output_type": "display_data"
    }
   ],
   "source": [
    "x_y_word = []\n",
    "plt.figure(figsize=(16,9),dpi=100)\n",
    "plt.rcParams['axes.unicode_minus'] = False \n",
    "\n",
    "plt.scatter(x,y)\n",
    "\n",
    "i=0\n",
    "for a, b, s in zip(x, y, word):\n",
    "    print(i)\n",
    "    i+=1\n",
    "    x_y_word.append(plt.text(a, b, s, fontsize=16))\n",
    "    \n",
    "adjust_text(x_y_word, arrowprops=dict(arrowstyle=\"->\", color='r', lw=0.5))\n",
    "\n",
    "plt.show()"
   ]
  }
 ],
 "metadata": {
  "kernelspec": {
   "display_name": "Python 3",
   "language": "python",
   "name": "python3"
  },
  "language_info": {
   "codemirror_mode": {
    "name": "ipython",
    "version": 3
   },
   "file_extension": ".py",
   "mimetype": "text/x-python",
   "name": "python",
   "nbconvert_exporter": "python",
   "pygments_lexer": "ipython3",
   "version": "3.6.5"
  }
 },
 "nbformat": 4,
 "nbformat_minor": 2
}
