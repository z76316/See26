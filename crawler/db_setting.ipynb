{
 "cells": [
  {
   "cell_type": "code",
   "execution_count": 1,
   "metadata": {},
   "outputs": [
    {
     "data": {
      "text/plain": [
       "'1.2.17'"
      ]
     },
     "execution_count": 1,
     "metadata": {},
     "output_type": "execute_result"
    }
   ],
   "source": [
    "import sqlalchemy\n",
    "\n",
    "sqlalchemy.__version__"
   ]
  },
  {
   "cell_type": "markdown",
   "metadata": {},
   "source": [
    "# DB Generator"
   ]
  },
  {
   "cell_type": "code",
   "execution_count": 38,
   "metadata": {},
   "outputs": [],
   "source": [
    "from sqlalchemy import create_engine, MetaData, Table, Column, Integer, String, Date, DateTime, ForeignKey\n",
    "engine = create_engine('sqlite:///ptt_nba.db', echo = False)\n",
    "meta = MetaData()\n",
    "\n",
    "articles = Table(\n",
    "    'articles', meta,\n",
    "    Column('id', Integer, primary_key = True),\n",
    "    Column('push', String),\n",
    "    Column('title', String),\n",
    "    Column('href', String),\n",
    "    Column('author', String),\n",
    "    Column('date', Date)\n",
    ")\n",
    "\n",
    "pushs = Table(\n",
    "    'pushs', meta,\n",
    "    Column('id', Integer, primary_key = True, autoincrement = True),\n",
    "    Column('article_id', Integer, ForeignKey('articles.id')),\n",
    "    Column('push', String),\n",
    "    Column('user', String),\n",
    "    Column('content', String),\n",
    "    Column('datetime', DateTime)\n",
    ")\n",
    "\n",
    "meta.create_all(engine)"
   ]
  },
  {
   "cell_type": "markdown",
   "metadata": {},
   "source": [
    "# Some tests"
   ]
  },
  {
   "cell_type": "code",
   "execution_count": 37,
   "metadata": {},
   "outputs": [
    {
     "data": {
      "text/plain": [
       "<sqlalchemy.sql.dml.Insert object at 0x112a86160>"
      ]
     },
     "execution_count": 37,
     "metadata": {},
     "output_type": "execute_result"
    }
   ],
   "source": [
    "from datetime import date, datetime\n",
    "conn = engine.connect()\n",
    "\n",
    "ins = articles.insert().values(id = 1559900131,\n",
    "                               push = '78',\n",
    "                               title = '[花邊] 庫班談湖人：他們情況越糟糕，我就越開心',\n",
    "                               href = 'www.ptt.cc/bbs/NBA/M.1559900131.A.64B.html',\n",
    "                               author = 'Yui5',\n",
    "                               date = date(2019, 6, 7))\n",
    "ins\n",
    "# result = conn.execute(ins)\n",
    "# result"
   ]
  },
  {
   "cell_type": "code",
   "execution_count": 15,
   "metadata": {},
   "outputs": [
    {
     "data": {
      "text/plain": [
       "7"
      ]
     },
     "execution_count": 15,
     "metadata": {},
     "output_type": "execute_result"
    }
   ],
   "source": [
    "aaa = ' 6/07'\n",
    "aaa = aaa.strip()\n",
    "aaa = aaa.split('/')\n",
    "bbb = int(aaa[1])\n",
    "bbb"
   ]
  },
  {
   "cell_type": "code",
   "execution_count": 31,
   "metadata": {},
   "outputs": [
    {
     "name": "stdout",
     "output_type": "stream",
     "text": [
      "6\n",
      "8\n",
      "23\n",
      "22\n"
     ]
    }
   ],
   "source": [
    "from datetime import date, datetime\n",
    "ccc = '06/08 23:22'\n",
    "date1 = ccc.split('/')\n",
    "month = int(date1[0])\n",
    "date2 = date1[1].split(' ')\n",
    "day = int(date2[0])\n",
    "date3 = date2[1].split(':')\n",
    "hour = int(date3[0])\n",
    "minute = int(date3[1])\n",
    "print(month)\n",
    "print(day)\n",
    "print(hour)\n",
    "print(minute)"
   ]
  },
  {
   "cell_type": "code",
   "execution_count": null,
   "metadata": {},
   "outputs": [],
   "source": []
  }
 ],
 "metadata": {
  "kernelspec": {
   "display_name": "Python 3",
   "language": "python",
   "name": "python3"
  },
  "language_info": {
   "codemirror_mode": {
    "name": "ipython",
    "version": 3
   },
   "file_extension": ".py",
   "mimetype": "text/x-python",
   "name": "python",
   "nbconvert_exporter": "python",
   "pygments_lexer": "ipython3",
   "version": "3.7.2"
  }
 },
 "nbformat": 4,
 "nbformat_minor": 2
}
