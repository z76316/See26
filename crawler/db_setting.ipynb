{
 "cells": [
  {
   "cell_type": "code",
   "execution_count": 5,
   "metadata": {},
   "outputs": [
    {
     "data": {
      "text/plain": [
       "'1.2.17'"
      ]
     },
     "execution_count": 5,
     "metadata": {},
     "output_type": "execute_result"
    }
   ],
   "source": [
    "import sqlalchemy\n",
    "\n",
    "sqlalchemy.__version__"
   ]
  },
  {
   "cell_type": "markdown",
   "metadata": {},
   "source": [
    "# DB Generator: ptt_gossiping.db"
   ]
  },
  {
   "cell_type": "code",
   "execution_count": 1,
   "metadata": {},
   "outputs": [],
   "source": [
    "from sqlalchemy import create_engine, MetaData, Table, Column, Integer, String, Date, DateTime, ForeignKey\n",
    "engine = create_engine('sqlite:///ptt_gossiping.db', echo = False)\n",
    "meta = MetaData()\n",
    "\n",
    "articles = Table(\n",
    "    'articles', meta,\n",
    "    Column('id', Integer, primary_key = True),\n",
    "    Column('push', String),\n",
    "    Column('title', String),\n",
    "    Column('href', String),\n",
    "    Column('author', String),\n",
    "    Column('board', String),\n",
    "    Column('ip', String),\n",
    "    Column('date', Date)\n",
    ")\n",
    "\n",
    "pushs = Table(\n",
    "    'pushs', meta,\n",
    "    Column('id', Integer, primary_key = True, autoincrement = True),\n",
    "    Column('article_id', Integer, ForeignKey('articles.id')),\n",
    "    Column('push', String),\n",
    "    Column('user', String),\n",
    "    Column('content', String),\n",
    "    Column('ip', String),\n",
    "    Column('datetime', DateTime)\n",
    ")\n",
    "\n",
    "meta.create_all(engine)"
   ]
  },
  {
   "cell_type": "markdown",
   "metadata": {},
   "source": [
    "# DB Generator: ptt_nba.db"
   ]
  },
  {
   "cell_type": "code",
   "execution_count": 38,
   "metadata": {},
   "outputs": [],
   "source": [
    "from sqlalchemy import create_engine, MetaData, Table, Column, Integer, String, Date, DateTime, ForeignKey\n",
    "engine = create_engine('sqlite:///ptt_nba.db', echo = False)\n",
    "meta = MetaData()\n",
    "\n",
    "articles = Table(\n",
    "    'articles', meta,\n",
    "    Column('id', Integer, primary_key = True),\n",
    "    Column('push', String),\n",
    "    Column('title', String),\n",
    "    Column('href', String),\n",
    "    Column('author', String),\n",
    "    Column('date', Date)\n",
    ")\n",
    "\n",
    "pushs = Table(\n",
    "    'pushs', meta,\n",
    "    Column('id', Integer, primary_key = True, autoincrement = True),\n",
    "    Column('article_id', Integer, ForeignKey('articles.id')),\n",
    "    Column('push', String),\n",
    "    Column('user', String),\n",
    "    Column('content', String),\n",
    "    Column('datetime', DateTime)\n",
    ")\n",
    "\n",
    "meta.create_all(engine)"
   ]
  },
  {
   "cell_type": "markdown",
   "metadata": {},
   "source": [
    "# Some tests"
   ]
  },
  {
   "cell_type": "code",
   "execution_count": 37,
   "metadata": {},
   "outputs": [
    {
     "data": {
      "text/plain": [
       "<sqlalchemy.sql.dml.Insert object at 0x112a86160>"
      ]
     },
     "execution_count": 37,
     "metadata": {},
     "output_type": "execute_result"
    }
   ],
   "source": [
    "from datetime import date, datetime\n",
    "conn = engine.connect()\n",
    "\n",
    "ins = articles.insert().values(id = 1559900131,\n",
    "                               push = '78',\n",
    "                               title = '[花邊] 庫班談湖人：他們情況越糟糕，我就越開心',\n",
    "                               href = 'www.ptt.cc/bbs/NBA/M.1559900131.A.64B.html',\n",
    "                               author = 'Yui5',\n",
    "                               date = date(2019, 6, 7))\n",
    "ins\n",
    "# result = conn.execute(ins)\n",
    "# result"
   ]
  },
  {
   "cell_type": "code",
   "execution_count": 15,
   "metadata": {},
   "outputs": [
    {
     "data": {
      "text/plain": [
       "7"
      ]
     },
     "execution_count": 15,
     "metadata": {},
     "output_type": "execute_result"
    }
   ],
   "source": [
    "aaa = ' 6/07'\n",
    "aaa = aaa.strip()\n",
    "aaa = aaa.split('/')\n",
    "bbb = int(aaa[1])\n",
    "bbb"
   ]
  },
  {
   "cell_type": "code",
   "execution_count": 3,
   "metadata": {},
   "outputs": [
    {
     "name": "stdout",
     "output_type": "stream",
     "text": [
      "2019\n",
      "6\n",
      "8\n",
      "23\n",
      "22\n"
     ]
    }
   ],
   "source": [
    "from datetime import date, datetime\n",
    "ccc = '2019/06/08 23:22'\n",
    "date1 = ccc.split('/')\n",
    "year = int(date1[0])\n",
    "month = int(date1[1])\n",
    "date2 = date1[2].split(' ')\n",
    "day = int(date2[0])\n",
    "date3 = date2[1].split(':')\n",
    "hour = int(date3[0])\n",
    "minute = int(date3[1])\n",
    "print(year)\n",
    "print(month)\n",
    "print(day)\n",
    "print(hour)\n",
    "print(minute)"
   ]
  },
  {
   "cell_type": "code",
   "execution_count": 6,
   "metadata": {},
   "outputs": [
    {
     "data": {
      "text/plain": [
       "'2019'"
      ]
     },
     "execution_count": 6,
     "metadata": {},
     "output_type": "execute_result"
    }
   ],
   "source": [
    "year1 = 'Fri Jun 21 19:17:29 2019'\n",
    "year2 = year1.strip().split(' ')[-1]\n",
    "year2"
   ]
  },
  {
   "cell_type": "code",
   "execution_count": 4,
   "metadata": {},
   "outputs": [
    {
     "data": {
      "text/plain": [
       "'2019/06/21 19:19'"
      ]
     },
     "execution_count": 4,
     "metadata": {},
     "output_type": "execute_result"
    }
   ],
   "source": [
    "year = '2019'\n",
    "ipdatetime = '  223.140.175.5 06/21 19:19'\n",
    "ipdatetime = ipdatetime.strip().split(' ')\n",
    "ip = ipdatetime[0]\n",
    "datetime = year + '/' + ipdatetime[1] + ' ' + ipdatetime[2]\n",
    "datetime"
   ]
  },
  {
   "cell_type": "code",
   "execution_count": null,
   "metadata": {},
   "outputs": [],
   "source": []
  }
 ],
 "metadata": {
  "kernelspec": {
   "display_name": "Python 3",
   "language": "python",
   "name": "python3"
  },
  "language_info": {
   "codemirror_mode": {
    "name": "ipython",
    "version": 3
   },
   "file_extension": ".py",
   "mimetype": "text/x-python",
   "name": "python",
   "nbconvert_exporter": "python",
   "pygments_lexer": "ipython3",
   "version": "3.7.2"
  }
 },
 "nbformat": 4,
 "nbformat_minor": 2
}
